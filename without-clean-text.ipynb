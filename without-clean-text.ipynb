{
 "cells": [
  {
   "cell_type": "code",
   "execution_count": 1,
   "id": "ce0500f7",
   "metadata": {
    "execution": {
     "iopub.execute_input": "2023-10-17T09:03:59.942189Z",
     "iopub.status.busy": "2023-10-17T09:03:59.941809Z",
     "iopub.status.idle": "2023-10-17T09:04:49.858354Z",
     "shell.execute_reply": "2023-10-17T09:04:49.857302Z"
    },
    "id": "_3D8cZtRLmBb",
    "papermill": {
     "duration": 49.926553,
     "end_time": "2023-10-17T09:04:49.861076",
     "exception": false,
     "start_time": "2023-10-17T09:03:59.934523",
     "status": "completed"
    },
    "tags": []
   },
   "outputs": [
    {
     "name": "stdout",
     "output_type": "stream",
     "text": [
      "Collecting ktrain\r\n",
      "  Downloading ktrain-0.38.0.tar.gz (25.3 MB)\r\n",
      "\u001b[2K     \u001b[90m━━━━━━━━━━━━━━━━━━━━━━━━━━━━━━━━━━━━━━━━\u001b[0m \u001b[32m25.3/25.3 MB\u001b[0m \u001b[31m45.9 MB/s\u001b[0m eta \u001b[36m0:00:00\u001b[0m\r\n",
      "\u001b[?25h  Preparing metadata (setup.py) ... \u001b[?25ldone\r\n",
      "\u001b[?25hRequirement already satisfied: scikit-learn in /opt/conda/lib/python3.10/site-packages (from ktrain) (1.2.2)\r\n",
      "Requirement already satisfied: matplotlib>=3.0.0 in /opt/conda/lib/python3.10/site-packages (from ktrain) (3.7.2)\r\n",
      "Requirement already satisfied: pandas>=1.0.1 in /opt/conda/lib/python3.10/site-packages (from ktrain) (2.0.2)\r\n",
      "Requirement already satisfied: fastprogress>=0.1.21 in /opt/conda/lib/python3.10/site-packages (from ktrain) (1.0.3)\r\n",
      "Requirement already satisfied: requests in /opt/conda/lib/python3.10/site-packages (from ktrain) (2.31.0)\r\n",
      "Requirement already satisfied: joblib in /opt/conda/lib/python3.10/site-packages (from ktrain) (1.3.2)\r\n",
      "Requirement already satisfied: packaging in /opt/conda/lib/python3.10/site-packages (from ktrain) (21.3)\r\n",
      "Collecting langdetect (from ktrain)\r\n",
      "  Downloading langdetect-1.0.9.tar.gz (981 kB)\r\n",
      "\u001b[2K     \u001b[90m━━━━━━━━━━━━━━━━━━━━━━━━━━━━━━━━━━━━━━\u001b[0m \u001b[32m981.5/981.5 kB\u001b[0m \u001b[31m51.5 MB/s\u001b[0m eta \u001b[36m0:00:00\u001b[0m\r\n",
      "\u001b[?25h  Preparing metadata (setup.py) ... \u001b[?25ldone\r\n",
      "\u001b[?25hRequirement already satisfied: jieba in /opt/conda/lib/python3.10/site-packages (from ktrain) (0.42.1)\r\n",
      "Collecting cchardet (from ktrain)\r\n",
      "  Downloading cchardet-2.1.7.tar.gz (653 kB)\r\n",
      "\u001b[2K     \u001b[90m━━━━━━━━━━━━━━━━━━━━━━━━━━━━━━━━━━━━━━\u001b[0m \u001b[32m653.6/653.6 kB\u001b[0m \u001b[31m44.0 MB/s\u001b[0m eta \u001b[36m0:00:00\u001b[0m\r\n",
      "\u001b[?25h  Preparing metadata (setup.py) ... \u001b[?25l-\b \bdone\r\n",
      "\u001b[?25hCollecting chardet (from ktrain)\r\n",
      "  Downloading chardet-5.2.0-py3-none-any.whl (199 kB)\r\n",
      "\u001b[2K     \u001b[90m━━━━━━━━━━━━━━━━━━━━━━━━━━━━━━━━━━━━━━\u001b[0m \u001b[32m199.4/199.4 kB\u001b[0m \u001b[31m20.0 MB/s\u001b[0m eta \u001b[36m0:00:00\u001b[0m\r\n",
      "\u001b[?25hCollecting syntok>1.3.3 (from ktrain)\r\n",
      "  Downloading syntok-1.4.4-py3-none-any.whl (24 kB)\r\n",
      "Collecting tika (from ktrain)\r\n",
      "  Downloading tika-2.6.0.tar.gz (27 kB)\r\n",
      "  Preparing metadata (setup.py) ... \u001b[?25ldone\r\n",
      "\u001b[?25hRequirement already satisfied: transformers>=4.17.0 in /opt/conda/lib/python3.10/site-packages (from ktrain) (4.33.0)\r\n",
      "Requirement already satisfied: sentencepiece in /opt/conda/lib/python3.10/site-packages (from ktrain) (0.1.99)\r\n",
      "Collecting keras_bert>=0.86.0 (from ktrain)\r\n",
      "  Downloading keras-bert-0.89.0.tar.gz (25 kB)\r\n",
      "  Preparing metadata (setup.py) ... \u001b[?25ldone\r\n",
      "\u001b[?25hCollecting whoosh (from ktrain)\r\n",
      "  Downloading Whoosh-2.7.4-py2.py3-none-any.whl (468 kB)\r\n",
      "\u001b[2K     \u001b[90m━━━━━━━━━━━━━━━━━━━━━━━━━━━━━━━━━━━━━━\u001b[0m \u001b[32m468.8/468.8 kB\u001b[0m \u001b[31m34.9 MB/s\u001b[0m eta \u001b[36m0:00:00\u001b[0m\r\n",
      "\u001b[?25hRequirement already satisfied: numpy in /opt/conda/lib/python3.10/site-packages (from keras_bert>=0.86.0->ktrain) (1.23.5)\r\n",
      "Collecting keras-transformer==0.40.0 (from keras_bert>=0.86.0->ktrain)\r\n",
      "  Downloading keras-transformer-0.40.0.tar.gz (9.7 kB)\r\n",
      "  Preparing metadata (setup.py) ... \u001b[?25ldone\r\n",
      "\u001b[?25hCollecting keras-pos-embd==0.13.0 (from keras-transformer==0.40.0->keras_bert>=0.86.0->ktrain)\r\n",
      "  Downloading keras-pos-embd-0.13.0.tar.gz (5.6 kB)\r\n",
      "  Preparing metadata (setup.py) ... \u001b[?25ldone\r\n",
      "\u001b[?25hCollecting keras-multi-head==0.29.0 (from keras-transformer==0.40.0->keras_bert>=0.86.0->ktrain)\r\n",
      "  Downloading keras-multi-head-0.29.0.tar.gz (13 kB)\r\n",
      "  Preparing metadata (setup.py) ... \u001b[?25ldone\r\n",
      "\u001b[?25hCollecting keras-layer-normalization==0.16.0 (from keras-transformer==0.40.0->keras_bert>=0.86.0->ktrain)\r\n",
      "  Downloading keras-layer-normalization-0.16.0.tar.gz (3.9 kB)\r\n",
      "  Preparing metadata (setup.py) ... \u001b[?25ldone\r\n",
      "\u001b[?25hCollecting keras-position-wise-feed-forward==0.8.0 (from keras-transformer==0.40.0->keras_bert>=0.86.0->ktrain)\r\n",
      "  Downloading keras-position-wise-feed-forward-0.8.0.tar.gz (4.1 kB)\r\n",
      "  Preparing metadata (setup.py) ... \u001b[?25ldone\r\n",
      "\u001b[?25hCollecting keras-embed-sim==0.10.0 (from keras-transformer==0.40.0->keras_bert>=0.86.0->ktrain)\r\n",
      "  Downloading keras-embed-sim-0.10.0.tar.gz (3.6 kB)\r\n",
      "  Preparing metadata (setup.py) ... \u001b[?25ldone\r\n",
      "\u001b[?25hCollecting keras-self-attention==0.51.0 (from keras-multi-head==0.29.0->keras-transformer==0.40.0->keras_bert>=0.86.0->ktrain)\r\n",
      "  Downloading keras-self-attention-0.51.0.tar.gz (11 kB)\r\n",
      "  Preparing metadata (setup.py) ... \u001b[?25ldone\r\n",
      "\u001b[?25hRequirement already satisfied: contourpy>=1.0.1 in /opt/conda/lib/python3.10/site-packages (from matplotlib>=3.0.0->ktrain) (1.1.0)\r\n",
      "Requirement already satisfied: cycler>=0.10 in /opt/conda/lib/python3.10/site-packages (from matplotlib>=3.0.0->ktrain) (0.11.0)\r\n",
      "Requirement already satisfied: fonttools>=4.22.0 in /opt/conda/lib/python3.10/site-packages (from matplotlib>=3.0.0->ktrain) (4.40.0)\r\n",
      "Requirement already satisfied: kiwisolver>=1.0.1 in /opt/conda/lib/python3.10/site-packages (from matplotlib>=3.0.0->ktrain) (1.4.4)\r\n",
      "Requirement already satisfied: pillow>=6.2.0 in /opt/conda/lib/python3.10/site-packages (from matplotlib>=3.0.0->ktrain) (9.5.0)\r\n",
      "Requirement already satisfied: pyparsing<3.1,>=2.3.1 in /opt/conda/lib/python3.10/site-packages (from matplotlib>=3.0.0->ktrain) (3.0.9)\r\n",
      "Requirement already satisfied: python-dateutil>=2.7 in /opt/conda/lib/python3.10/site-packages (from matplotlib>=3.0.0->ktrain) (2.8.2)\r\n",
      "Requirement already satisfied: pytz>=2020.1 in /opt/conda/lib/python3.10/site-packages (from pandas>=1.0.1->ktrain) (2023.3)\r\n",
      "Requirement already satisfied: tzdata>=2022.1 in /opt/conda/lib/python3.10/site-packages (from pandas>=1.0.1->ktrain) (2023.3)\r\n",
      "Requirement already satisfied: regex>2016 in /opt/conda/lib/python3.10/site-packages (from syntok>1.3.3->ktrain) (2023.6.3)\r\n",
      "Requirement already satisfied: filelock in /opt/conda/lib/python3.10/site-packages (from transformers>=4.17.0->ktrain) (3.12.2)\r\n",
      "Requirement already satisfied: huggingface-hub<1.0,>=0.15.1 in /opt/conda/lib/python3.10/site-packages (from transformers>=4.17.0->ktrain) (0.16.4)\r\n",
      "Requirement already satisfied: pyyaml>=5.1 in /opt/conda/lib/python3.10/site-packages (from transformers>=4.17.0->ktrain) (6.0)\r\n",
      "Requirement already satisfied: tokenizers!=0.11.3,<0.14,>=0.11.1 in /opt/conda/lib/python3.10/site-packages (from transformers>=4.17.0->ktrain) (0.13.3)\r\n",
      "Requirement already satisfied: safetensors>=0.3.1 in /opt/conda/lib/python3.10/site-packages (from transformers>=4.17.0->ktrain) (0.3.3)\r\n",
      "Requirement already satisfied: tqdm>=4.27 in /opt/conda/lib/python3.10/site-packages (from transformers>=4.17.0->ktrain) (4.66.1)\r\n",
      "Requirement already satisfied: six in /opt/conda/lib/python3.10/site-packages (from langdetect->ktrain) (1.16.0)\r\n",
      "Requirement already satisfied: charset-normalizer<4,>=2 in /opt/conda/lib/python3.10/site-packages (from requests->ktrain) (3.1.0)\r\n",
      "Requirement already satisfied: idna<4,>=2.5 in /opt/conda/lib/python3.10/site-packages (from requests->ktrain) (3.4)\r\n",
      "Requirement already satisfied: urllib3<3,>=1.21.1 in /opt/conda/lib/python3.10/site-packages (from requests->ktrain) (1.26.15)\r\n",
      "Requirement already satisfied: certifi>=2017.4.17 in /opt/conda/lib/python3.10/site-packages (from requests->ktrain) (2023.7.22)\r\n",
      "Requirement already satisfied: scipy>=1.3.2 in /opt/conda/lib/python3.10/site-packages (from scikit-learn->ktrain) (1.11.2)\r\n",
      "Requirement already satisfied: threadpoolctl>=2.0.0 in /opt/conda/lib/python3.10/site-packages (from scikit-learn->ktrain) (3.1.0)\r\n",
      "Requirement already satisfied: setuptools in /opt/conda/lib/python3.10/site-packages (from tika->ktrain) (68.0.0)\r\n",
      "Requirement already satisfied: fsspec in /opt/conda/lib/python3.10/site-packages (from huggingface-hub<1.0,>=0.15.1->transformers>=4.17.0->ktrain) (2023.9.0)\r\n",
      "Requirement already satisfied: typing-extensions>=3.7.4.3 in /opt/conda/lib/python3.10/site-packages (from huggingface-hub<1.0,>=0.15.1->transformers>=4.17.0->ktrain) (4.6.3)\r\n",
      "Building wheels for collected packages: ktrain, keras_bert, keras-transformer, keras-embed-sim, keras-layer-normalization, keras-multi-head, keras-pos-embd, keras-position-wise-feed-forward, keras-self-attention, cchardet, langdetect, tika\r\n",
      "  Building wheel for ktrain (setup.py) ... \u001b[?25l-\b \bdone\r\n",
      "\u001b[?25h  Created wheel for ktrain: filename=ktrain-0.38.0-py3-none-any.whl size=25319964 sha256=305a1441ec07c883024214ae281bfd7a4255407a0284cca20187d6ea8e7df342\r\n",
      "  Stored in directory: /root/.cache/pip/wheels/10/76/6b/5799f396ca78a8c38c7c6439a192ca88538a97cfb970946da5\r\n",
      "  Building wheel for keras_bert (setup.py) ... \u001b[?25l-\b \bdone\r\n",
      "\u001b[?25h  Created wheel for keras_bert: filename=keras_bert-0.89.0-py3-none-any.whl size=33501 sha256=426bae085cf2b71e352c334196cc9cf7114ab1a22c16327e4e5b9c75cc44c26c\r\n",
      "  Stored in directory: /root/.cache/pip/wheels/89/0c/04/646b6fdf6375911b42c8d540a8a3fda8d5d77634e5dcbe7b26\r\n",
      "  Building wheel for keras-transformer (setup.py) ... \u001b[?25l-\b \bdone\r\n",
      "\u001b[?25h  Created wheel for keras-transformer: filename=keras_transformer-0.40.0-py3-none-any.whl size=12287 sha256=8db71c443a7610853d49a816e90d2095635c9fdbc425a9c7a5117e06452b0eff\r\n",
      "  Stored in directory: /root/.cache/pip/wheels/f2/cb/22/75a0ad376129177f7c95c0d91331a18f5368fd657f4035ba7c\r\n",
      "  Building wheel for keras-embed-sim (setup.py) ... \u001b[?25l-\b \bdone\r\n",
      "\u001b[?25h  Created wheel for keras-embed-sim: filename=keras_embed_sim-0.10.0-py3-none-any.whl size=3943 sha256=51b0e7d16962510250f0497783a86816f595e63629f46e80df50fda4cd1b8a63\r\n",
      "  Stored in directory: /root/.cache/pip/wheels/82/32/c7/fd35d0d1b840a6c7cbd4343f808d10d0f7b87d271a4dbe796f\r\n",
      "  Building wheel for keras-layer-normalization (setup.py) ... \u001b[?25l-\b \bdone\r\n",
      "\u001b[?25h  Created wheel for keras-layer-normalization: filename=keras_layer_normalization-0.16.0-py3-none-any.whl size=4653 sha256=f0e8fc5a8ff295456fce0f8756f7881cab8548555475a9b1f8b56b73e2dcac73\r\n",
      "  Stored in directory: /root/.cache/pip/wheels/ed/3a/4b/21db23c0cc56c4b219616e181f258eb7c57d36cc5d056fae9a\r\n",
      "  Building wheel for keras-multi-head (setup.py) ... \u001b[?25l-\b \bdone\r\n",
      "\u001b[?25h  Created wheel for keras-multi-head: filename=keras_multi_head-0.29.0-py3-none-any.whl size=14979 sha256=d793de0e0938856792f434d86944d8aee979518b380520b0cc0393bd07bb4429\r\n",
      "  Stored in directory: /root/.cache/pip/wheels/cb/23/4b/06d7ae21714f70fcc25b48f972cc8e5e7f4b6b764a038b509d\r\n",
      "  Building wheel for keras-pos-embd (setup.py) ... \u001b[?25l-\b \bdone\r\n",
      "\u001b[?25h  Created wheel for keras-pos-embd: filename=keras_pos_embd-0.13.0-py3-none-any.whl size=6946 sha256=986368840722fe97a5305afae0679a56d223f347ed67dc814a9e2ba00a00fa2a\r\n",
      "  Stored in directory: /root/.cache/pip/wheels/78/07/1b/b1ca47b6ac338554b75c8f52c54e6a2bfbe1b07d79579979a4\r\n",
      "  Building wheel for keras-position-wise-feed-forward (setup.py) ... \u001b[?25l-\b \bdone\r\n",
      "\u001b[?25h  Created wheel for keras-position-wise-feed-forward: filename=keras_position_wise_feed_forward-0.8.0-py3-none-any.whl size=4968 sha256=e09ee85f838ec69722c12d7efda82ed546885e09e0029ff7430e3218bce401f3\r\n",
      "  Stored in directory: /root/.cache/pip/wheels/c1/6a/04/d1706a53b23b2cb5f9a0a76269bf87925daa1bca09eac01b21\r\n",
      "  Building wheel for keras-self-attention (setup.py) ... \u001b[?25l-\b \bdone\r\n",
      "\u001b[?25h  Created wheel for keras-self-attention: filename=keras_self_attention-0.51.0-py3-none-any.whl size=18895 sha256=2dba4e985422507d6660c12ca2ab1deed0fc8e5e651e6135fc82251e1feddde9\r\n",
      "  Stored in directory: /root/.cache/pip/wheels/b8/f7/24/607b483144fb9c47b4ba2c5fba6b68e54aeee2d5bf6c05302e\r\n",
      "  Building wheel for cchardet (setup.py) ... \u001b[?25l-\b \b\\\b \bdone\r\n",
      "\u001b[?25h  Created wheel for cchardet: filename=cchardet-2.1.7-cp310-cp310-linux_x86_64.whl size=133763 sha256=f0804de6d39c8013398f5462eb80faff983cbe8b2e8618eaf2d21e4181542bc0\r\n",
      "  Stored in directory: /root/.cache/pip/wheels/ee/e0/ab/e01326f15c59438d080b1496dbab8091e952ec72f35e3c437e\r\n",
      "  Building wheel for langdetect (setup.py) ... \u001b[?25l-\b \bdone\r\n",
      "\u001b[?25h  Created wheel for langdetect: filename=langdetect-1.0.9-py3-none-any.whl size=993224 sha256=283249d3538ef1da34d3f024666b8a188d8f5c9cbbf2da2a928baae27d9c01af\r\n",
      "  Stored in directory: /root/.cache/pip/wheels/95/03/7d/59ea870c70ce4e5a370638b5462a7711ab78fba2f655d05106\r\n",
      "  Building wheel for tika (setup.py) ... \u001b[?25l-\b \bdone\r\n",
      "\u001b[?25h  Created wheel for tika: filename=tika-2.6.0-py3-none-any.whl size=32625 sha256=8db4eba9973fa056d21d148e429debacd4c0edc3899322aac19df78e32910dc7\r\n",
      "  Stored in directory: /root/.cache/pip/wheels/5f/71/c7/b757709531121b1700cffda5b6b0d4aad095fb507ec84316d0\r\n",
      "Successfully built ktrain keras_bert keras-transformer keras-embed-sim keras-layer-normalization keras-multi-head keras-pos-embd keras-position-wise-feed-forward keras-self-attention cchardet langdetect tika\r\n",
      "Installing collected packages: whoosh, cchardet, syntok, langdetect, keras-self-attention, keras-position-wise-feed-forward, keras-pos-embd, keras-layer-normalization, keras-embed-sim, chardet, tika, keras-multi-head, keras-transformer, keras_bert, ktrain\r\n",
      "Successfully installed cchardet-2.1.7 chardet-5.2.0 keras-embed-sim-0.10.0 keras-layer-normalization-0.16.0 keras-multi-head-0.29.0 keras-pos-embd-0.13.0 keras-position-wise-feed-forward-0.8.0 keras-self-attention-0.51.0 keras-transformer-0.40.0 keras_bert-0.89.0 ktrain-0.38.0 langdetect-1.0.9 syntok-1.4.4 tika-2.6.0 whoosh-2.7.4\r\n"
     ]
    },
    {
     "name": "stderr",
     "output_type": "stream",
     "text": [
      "/opt/conda/lib/python3.10/site-packages/scipy/__init__.py:146: UserWarning: A NumPy version >=1.16.5 and <1.23.0 is required for this version of SciPy (detected version 1.23.5\n",
      "  warnings.warn(f\"A NumPy version >={np_minversion} and <{np_maxversion}\"\n"
     ]
    }
   ],
   "source": [
    "!pip install ktrain\n",
    "import ktrain\n",
    "from ktrain import text\n",
    "import pandas as pd\n",
    "import numpy as np\n",
    "import matplotlib.pyplot as plt"
   ]
  },
  {
   "cell_type": "code",
   "execution_count": 2,
   "id": "4b46756c",
   "metadata": {
    "execution": {
     "iopub.execute_input": "2023-10-17T09:04:49.887166Z",
     "iopub.status.busy": "2023-10-17T09:04:49.886525Z",
     "iopub.status.idle": "2023-10-17T09:04:49.965927Z",
     "shell.execute_reply": "2023-10-17T09:04:49.964806Z"
    },
    "id": "uLE-U0CJNSYj",
    "outputId": "de95e40c-c5e6-43f7-e68f-93355b62cf27",
    "papermill": {
     "duration": 0.093523,
     "end_time": "2023-10-17T09:04:49.968297",
     "exception": false,
     "start_time": "2023-10-17T09:04:49.874774",
     "status": "completed"
    },
    "tags": []
   },
   "outputs": [],
   "source": [
    "\n",
    "train = pd.read_csv('/kaggle/input/emonoba/Val.csv')\n",
    "test=pd.read_csv('/kaggle/input/emonoba/Test.csv')\n"
   ]
  },
  {
   "cell_type": "code",
   "execution_count": 3,
   "id": "88f4a767",
   "metadata": {
    "execution": {
     "iopub.execute_input": "2023-10-17T09:04:49.992982Z",
     "iopub.status.busy": "2023-10-17T09:04:49.992082Z",
     "iopub.status.idle": "2023-10-17T09:04:50.062670Z",
     "shell.execute_reply": "2023-10-17T09:04:50.060805Z"
    },
    "papermill": {
     "duration": 0.086091,
     "end_time": "2023-10-17T09:04:50.065787",
     "exception": false,
     "start_time": "2023-10-17T09:04:49.979696",
     "status": "completed"
    },
    "tags": []
   },
   "outputs": [],
   "source": [
    "# Function to determine the level based on the columns\n",
    "def determine_level(row):\n",
    "    emotions = ['Love', 'Joy', 'Surprise', 'Anger', 'Sadness', 'Fear']\n",
    "    for emotion in emotions:\n",
    "        if row[emotion] == 1:\n",
    "            return emotion\n",
    "    return 'Unknown'  # If no emotion is found\n",
    "   \n",
    "# Apply the function to create the 'Level' column\n",
    "train['Level'] = train.apply(determine_level, axis=1)\n",
    "test['Level']=test.apply(determine_level, axis=1)"
   ]
  },
  {
   "cell_type": "code",
   "execution_count": 4,
   "id": "515382e4",
   "metadata": {
    "execution": {
     "iopub.execute_input": "2023-10-17T09:04:50.098628Z",
     "iopub.status.busy": "2023-10-17T09:04:50.098263Z",
     "iopub.status.idle": "2023-10-17T09:04:50.108843Z",
     "shell.execute_reply": "2023-10-17T09:04:50.106778Z"
    },
    "papermill": {
     "duration": 0.027066,
     "end_time": "2023-10-17T09:04:50.111087",
     "exception": false,
     "start_time": "2023-10-17T09:04:50.084021",
     "status": "completed"
    },
    "tags": []
   },
   "outputs": [
    {
     "data": {
      "text/plain": [
       "0      Anger\n",
       "1      Anger\n",
       "2        Joy\n",
       "3    Sadness\n",
       "4       Love\n",
       "5        Joy\n",
       "6       Love\n",
       "7    Sadness\n",
       "8      Anger\n",
       "9    Sadness\n",
       "Name: Level, dtype: object"
      ]
     },
     "execution_count": 4,
     "metadata": {},
     "output_type": "execute_result"
    }
   ],
   "source": [
    "new_label=test['Level']\n",
    "new_label.head(10)"
   ]
  },
  {
   "cell_type": "code",
   "execution_count": 5,
   "id": "ba34c212",
   "metadata": {
    "execution": {
     "iopub.execute_input": "2023-10-17T09:04:50.147904Z",
     "iopub.status.busy": "2023-10-17T09:04:50.147447Z",
     "iopub.status.idle": "2023-10-17T09:04:50.158749Z",
     "shell.execute_reply": "2023-10-17T09:04:50.157932Z"
    },
    "id": "5kP-U4y4OaQQ",
    "papermill": {
     "duration": 0.032196,
     "end_time": "2023-10-17T09:04:50.160582",
     "exception": false,
     "start_time": "2023-10-17T09:04:50.128386",
     "status": "completed"
    },
    "tags": []
   },
   "outputs": [],
   "source": [
    " train = train.drop('Love', axis=1)\n",
    "test = test.drop('Love', axis=1)\n"
   ]
  },
  {
   "cell_type": "code",
   "execution_count": 6,
   "id": "84926712",
   "metadata": {
    "execution": {
     "iopub.execute_input": "2023-10-17T09:04:50.181414Z",
     "iopub.status.busy": "2023-10-17T09:04:50.180883Z",
     "iopub.status.idle": "2023-10-17T09:04:50.196947Z",
     "shell.execute_reply": "2023-10-17T09:04:50.196122Z"
    },
    "id": "PLMRDiJOOe96",
    "papermill": {
     "duration": 0.028026,
     "end_time": "2023-10-17T09:04:50.198609",
     "exception": false,
     "start_time": "2023-10-17T09:04:50.170583",
     "status": "completed"
    },
    "tags": []
   },
   "outputs": [],
   "source": [
    "\n",
    "train = train.drop('Joy', axis=1)\n",
    "train = train.drop('Surprise', axis=1)\n",
    "train = train.drop('Anger', axis=1)\n",
    "train = train.drop('Sadness', axis=1)\n",
    "train = train.drop('Fear', axis=1)\n",
    "train = train.drop('Topic', axis=1)\n",
    "train = train.drop('Domain', axis=1)\n",
    "train = train.drop('is_admin', axis=1)\n",
    "\n",
    "\n",
    "test = test.drop('Joy', axis=1)\n",
    "test = test.drop('Surprise', axis=1)\n",
    "test = test.drop('Anger', axis=1)\n",
    "test = test.drop('Sadness', axis=1)\n",
    "test = test.drop('Fear', axis=1)\n",
    "test = test.drop('Topic', axis=1)\n",
    "test = test.drop('Domain', axis=1)\n",
    "test = test.drop('is_admin', axis=1)"
   ]
  },
  {
   "cell_type": "code",
   "execution_count": 7,
   "id": "79f9011b",
   "metadata": {
    "execution": {
     "iopub.execute_input": "2023-10-17T09:04:50.218820Z",
     "iopub.status.busy": "2023-10-17T09:04:50.218526Z",
     "iopub.status.idle": "2023-10-17T09:04:50.230815Z",
     "shell.execute_reply": "2023-10-17T09:04:50.229791Z"
    },
    "id": "xxFKExzJHvBA",
    "outputId": "c1e315d1-a309-405f-899e-d3fbd40ebbdd",
    "papermill": {
     "duration": 0.024152,
     "end_time": "2023-10-17T09:04:50.232505",
     "exception": false,
     "start_time": "2023-10-17T09:04:50.208353",
     "status": "completed"
    },
    "tags": []
   },
   "outputs": [
    {
     "data": {
      "text/html": [
       "<div>\n",
       "<style scoped>\n",
       "    .dataframe tbody tr th:only-of-type {\n",
       "        vertical-align: middle;\n",
       "    }\n",
       "\n",
       "    .dataframe tbody tr th {\n",
       "        vertical-align: top;\n",
       "    }\n",
       "\n",
       "    .dataframe thead th {\n",
       "        text-align: right;\n",
       "    }\n",
       "</style>\n",
       "<table border=\"1\" class=\"dataframe\">\n",
       "  <thead>\n",
       "    <tr style=\"text-align: right;\">\n",
       "      <th></th>\n",
       "      <th>ID</th>\n",
       "      <th>Data</th>\n",
       "      <th>Level</th>\n",
       "    </tr>\n",
       "  </thead>\n",
       "  <tbody>\n",
       "    <tr>\n",
       "      <th>0</th>\n",
       "      <td>18313</td>\n",
       "      <td>চট্রগ্রাম এবং কক্সবাজার বন্যা কবলিত এলাকাতে ত্...</td>\n",
       "      <td>Joy</td>\n",
       "    </tr>\n",
       "    <tr>\n",
       "      <th>1</th>\n",
       "      <td>13039</td>\n",
       "      <td>আমার কাছে ছিল শুধু রিহানের ফটো এলবাম। বছর দুয়ে...</td>\n",
       "      <td>Anger</td>\n",
       "    </tr>\n",
       "    <tr>\n",
       "      <th>2</th>\n",
       "      <td>2512</td>\n",
       "      <td>হারিয়ে দেখিয়ে দিলো মাদ্রাসা ছাত্র</td>\n",
       "      <td>Joy</td>\n",
       "    </tr>\n",
       "    <tr>\n",
       "      <th>3</th>\n",
       "      <td>14513</td>\n",
       "      <td>তোরা বালছিড়বি কাঙলাচোদার দল।🤣🤣🤣ছোটলোক ভিখারিচ...</td>\n",
       "      <td>Sadness</td>\n",
       "    </tr>\n",
       "    <tr>\n",
       "      <th>4</th>\n",
       "      <td>16692</td>\n",
       "      <td>বিপ্লবী সাহসী মেয়ে ...</td>\n",
       "      <td>Joy</td>\n",
       "    </tr>\n",
       "  </tbody>\n",
       "</table>\n",
       "</div>"
      ],
      "text/plain": [
       "      ID                                               Data    Level\n",
       "0  18313  চট্রগ্রাম এবং কক্সবাজার বন্যা কবলিত এলাকাতে ত্...      Joy\n",
       "1  13039  আমার কাছে ছিল শুধু রিহানের ফটো এলবাম। বছর দুয়ে...    Anger\n",
       "2   2512                 হারিয়ে দেখিয়ে দিলো মাদ্রাসা ছাত্র       Joy\n",
       "3  14513  তোরা বালছিড়বি কাঙলাচোদার দল।🤣🤣🤣ছোটলোক ভিখারিচ...  Sadness\n",
       "4  16692                            বিপ্লবী সাহসী মেয়ে ...       Joy"
      ]
     },
     "execution_count": 7,
     "metadata": {},
     "output_type": "execute_result"
    }
   ],
   "source": [
    " train.head()\n",
    "    \n",
    "#  print(test.head())"
   ]
  },
  {
   "cell_type": "code",
   "execution_count": 8,
   "id": "e6897610",
   "metadata": {
    "execution": {
     "iopub.execute_input": "2023-10-17T09:04:50.253781Z",
     "iopub.status.busy": "2023-10-17T09:04:50.253033Z",
     "iopub.status.idle": "2023-10-17T09:04:59.545739Z",
     "shell.execute_reply": "2023-10-17T09:04:59.544199Z"
    },
    "id": "et4xGTjU98Un",
    "outputId": "00353b12-692d-4f3c-ea1e-8d5c64a5292f",
    "papermill": {
     "duration": 9.305714,
     "end_time": "2023-10-17T09:04:59.547806",
     "exception": false,
     "start_time": "2023-10-17T09:04:50.242092",
     "status": "completed"
    },
    "tags": []
   },
   "outputs": [
    {
     "name": "stdout",
     "output_type": "stream",
     "text": [
      "Requirement already satisfied: scikit-learn in /opt/conda/lib/python3.10/site-packages (1.2.2)\r\n",
      "Requirement already satisfied: numpy>=1.17.3 in /opt/conda/lib/python3.10/site-packages (from scikit-learn) (1.23.5)\r\n",
      "Requirement already satisfied: scipy>=1.3.2 in /opt/conda/lib/python3.10/site-packages (from scikit-learn) (1.11.2)\r\n",
      "Requirement already satisfied: joblib>=1.1.1 in /opt/conda/lib/python3.10/site-packages (from scikit-learn) (1.3.2)\r\n",
      "Requirement already satisfied: threadpoolctl>=2.0.0 in /opt/conda/lib/python3.10/site-packages (from scikit-learn) (3.1.0)\r\n",
      "Note: you may need to restart the kernel to use updated packages.\n"
     ]
    }
   ],
   "source": [
    "pip install scikit-learn\n"
   ]
  },
  {
   "cell_type": "code",
   "execution_count": 9,
   "id": "b14ce298",
   "metadata": {
    "execution": {
     "iopub.execute_input": "2023-10-17T09:04:59.568595Z",
     "iopub.status.busy": "2023-10-17T09:04:59.568289Z",
     "iopub.status.idle": "2023-10-17T09:04:59.572867Z",
     "shell.execute_reply": "2023-10-17T09:04:59.571951Z"
    },
    "id": "obmptzSS-BL6",
    "papermill": {
     "duration": 0.016849,
     "end_time": "2023-10-17T09:04:59.574564",
     "exception": false,
     "start_time": "2023-10-17T09:04:59.557715",
     "status": "completed"
    },
    "tags": []
   },
   "outputs": [],
   "source": [
    "from sklearn.metrics import classification_report\n"
   ]
  },
  {
   "cell_type": "code",
   "execution_count": 10,
   "id": "a8035a79",
   "metadata": {
    "execution": {
     "iopub.execute_input": "2023-10-17T09:04:59.594813Z",
     "iopub.status.busy": "2023-10-17T09:04:59.594519Z",
     "iopub.status.idle": "2023-10-17T09:05:02.246148Z",
     "shell.execute_reply": "2023-10-17T09:05:02.244956Z"
    },
    "id": "AR7soKVlLufC",
    "outputId": "08b6853e-d975-4c3d-ed12-1267b5189f7c",
    "papermill": {
     "duration": 2.663746,
     "end_time": "2023-10-17T09:05:02.248125",
     "exception": false,
     "start_time": "2023-10-17T09:04:59.584379",
     "status": "completed"
    },
    "tags": []
   },
   "outputs": [
    {
     "name": "stdout",
     "output_type": "stream",
     "text": [
      "Collecting bnltk==0.7.6\r\n",
      "  Downloading bnltk-0.7.6-py3-none-any.whl (11 kB)\r\n",
      "Requirement already satisfied: keras in /opt/conda/lib/python3.10/site-packages (from bnltk==0.7.6) (2.12.0)\r\n",
      "Requirement already satisfied: tensorflow in /opt/conda/lib/python3.10/site-packages (from bnltk==0.7.6) (2.12.0)\r\n",
      "Requirement already satisfied: numpy in /opt/conda/lib/python3.10/site-packages (from bnltk==0.7.6) (1.23.5)\r\n",
      "Collecting sklearn (from bnltk==0.7.6)\r\n",
      "  Downloading sklearn-0.0.post10.tar.gz (3.6 kB)\r\n",
      "  Preparing metadata (setup.py) ... \u001b[?25l-\b \berror\r\n",
      "  \u001b[1;31merror\u001b[0m: \u001b[1msubprocess-exited-with-error\u001b[0m\r\n",
      "  \r\n",
      "  \u001b[31m×\u001b[0m \u001b[32mpython setup.py egg_info\u001b[0m did not run successfully.\r\n",
      "  \u001b[31m│\u001b[0m exit code: \u001b[1;36m1\u001b[0m\r\n",
      "  \u001b[31m╰─>\u001b[0m \u001b[31m[18 lines of output]\u001b[0m\r\n",
      "  \u001b[31m   \u001b[0m The 'sklearn' PyPI package is deprecated, use 'scikit-learn'\r\n",
      "  \u001b[31m   \u001b[0m rather than 'sklearn' for pip commands.\r\n",
      "  \u001b[31m   \u001b[0m \r\n",
      "  \u001b[31m   \u001b[0m Here is how to fix this error in the main use cases:\r\n",
      "  \u001b[31m   \u001b[0m - use 'pip install scikit-learn' rather than 'pip install sklearn'\r\n",
      "  \u001b[31m   \u001b[0m - replace 'sklearn' by 'scikit-learn' in your pip requirements files\r\n",
      "  \u001b[31m   \u001b[0m   (requirements.txt, setup.py, setup.cfg, Pipfile, etc ...)\r\n",
      "  \u001b[31m   \u001b[0m - if the 'sklearn' package is used by one of your dependencies,\r\n",
      "  \u001b[31m   \u001b[0m   it would be great if you take some time to track which package uses\r\n",
      "  \u001b[31m   \u001b[0m   'sklearn' instead of 'scikit-learn' and report it to their issue tracker\r\n",
      "  \u001b[31m   \u001b[0m - as a last resort, set the environment variable\r\n",
      "  \u001b[31m   \u001b[0m   SKLEARN_ALLOW_DEPRECATED_SKLEARN_PACKAGE_INSTALL=True to avoid this error\r\n",
      "  \u001b[31m   \u001b[0m \r\n",
      "  \u001b[31m   \u001b[0m More information is available at\r\n",
      "  \u001b[31m   \u001b[0m https://github.com/scikit-learn/sklearn-pypi-package\r\n",
      "  \u001b[31m   \u001b[0m \r\n",
      "  \u001b[31m   \u001b[0m If the previous advice does not cover your use case, feel free to report it at\r\n",
      "  \u001b[31m   \u001b[0m https://github.com/scikit-learn/sklearn-pypi-package/issues/new\r\n",
      "  \u001b[31m   \u001b[0m \u001b[31m[end of output]\u001b[0m\r\n",
      "  \r\n",
      "  \u001b[1;35mnote\u001b[0m: This error originates from a subprocess, and is likely not a problem with pip.\r\n",
      "\u001b[1;31merror\u001b[0m: \u001b[1mmetadata-generation-failed\u001b[0m\r\n",
      "\r\n",
      "\u001b[31m×\u001b[0m Encountered error while generating package metadata.\r\n",
      "\u001b[31m╰─>\u001b[0m See above for output.\r\n",
      "\r\n",
      "\u001b[1;35mnote\u001b[0m: This is an issue with the package mentioned above, not pip.\r\n",
      "\u001b[1;36mhint\u001b[0m: See above for details.\r\n",
      "\u001b[?25hNote: you may need to restart the kernel to use updated packages.\n"
     ]
    }
   ],
   "source": [
    "pip install bnltk==0.7.6"
   ]
  },
  {
   "cell_type": "code",
   "execution_count": 11,
   "id": "e482e2e6",
   "metadata": {
    "execution": {
     "iopub.execute_input": "2023-10-17T09:05:02.269478Z",
     "iopub.status.busy": "2023-10-17T09:05:02.269149Z",
     "iopub.status.idle": "2023-10-17T09:05:10.449256Z",
     "shell.execute_reply": "2023-10-17T09:05:10.447633Z"
    },
    "id": "OtO3HEEzOzGk",
    "outputId": "6e7af3ee-9ea6-4b71-ab7a-9309c82c6673",
    "papermill": {
     "duration": 8.193071,
     "end_time": "2023-10-17T09:05:10.451251",
     "exception": false,
     "start_time": "2023-10-17T09:05:02.258180",
     "status": "completed"
    },
    "tags": []
   },
   "outputs": [
    {
     "name": "stdout",
     "output_type": "stream",
     "text": [
      "Requirement already satisfied: pydot in /opt/conda/lib/python3.10/site-packages (1.4.2)\r\n",
      "Requirement already satisfied: pyparsing>=2.1.4 in /opt/conda/lib/python3.10/site-packages (from pydot) (3.0.9)\r\n",
      "Note: you may need to restart the kernel to use updated packages.\n"
     ]
    }
   ],
   "source": [
    "pip install pydot"
   ]
  },
  {
   "cell_type": "code",
   "execution_count": 12,
   "id": "d3134943",
   "metadata": {
    "execution": {
     "iopub.execute_input": "2023-10-17T09:05:10.515700Z",
     "iopub.status.busy": "2023-10-17T09:05:10.515353Z",
     "iopub.status.idle": "2023-10-17T09:05:18.839862Z",
     "shell.execute_reply": "2023-10-17T09:05:18.838721Z"
    },
    "id": "aK0x0fI_O55l",
    "outputId": "21436516-6caf-407b-c602-235046095822",
    "papermill": {
     "duration": 8.380726,
     "end_time": "2023-10-17T09:05:18.841958",
     "exception": false,
     "start_time": "2023-10-17T09:05:10.461232",
     "status": "completed"
    },
    "tags": []
   },
   "outputs": [
    {
     "name": "stdout",
     "output_type": "stream",
     "text": [
      "Requirement already satisfied: cartopy in /opt/conda/lib/python3.10/site-packages (0.22.0)\r\n",
      "Requirement already satisfied: numpy>=1.21 in /opt/conda/lib/python3.10/site-packages (from cartopy) (1.23.5)\r\n",
      "Requirement already satisfied: matplotlib>=3.4 in /opt/conda/lib/python3.10/site-packages (from cartopy) (3.7.2)\r\n",
      "Requirement already satisfied: shapely>=1.7 in /opt/conda/lib/python3.10/site-packages (from cartopy) (1.8.5.post1)\r\n",
      "Requirement already satisfied: packaging>=20 in /opt/conda/lib/python3.10/site-packages (from cartopy) (21.3)\r\n",
      "Requirement already satisfied: pyshp>=2.1 in /opt/conda/lib/python3.10/site-packages (from cartopy) (2.3.1)\r\n",
      "Requirement already satisfied: pyproj>=3.1.0 in /opt/conda/lib/python3.10/site-packages (from cartopy) (3.6.0)\r\n",
      "Requirement already satisfied: contourpy>=1.0.1 in /opt/conda/lib/python3.10/site-packages (from matplotlib>=3.4->cartopy) (1.1.0)\r\n",
      "Requirement already satisfied: cycler>=0.10 in /opt/conda/lib/python3.10/site-packages (from matplotlib>=3.4->cartopy) (0.11.0)\r\n",
      "Requirement already satisfied: fonttools>=4.22.0 in /opt/conda/lib/python3.10/site-packages (from matplotlib>=3.4->cartopy) (4.40.0)\r\n",
      "Requirement already satisfied: kiwisolver>=1.0.1 in /opt/conda/lib/python3.10/site-packages (from matplotlib>=3.4->cartopy) (1.4.4)\r\n",
      "Requirement already satisfied: pillow>=6.2.0 in /opt/conda/lib/python3.10/site-packages (from matplotlib>=3.4->cartopy) (9.5.0)\r\n",
      "Requirement already satisfied: pyparsing<3.1,>=2.3.1 in /opt/conda/lib/python3.10/site-packages (from matplotlib>=3.4->cartopy) (3.0.9)\r\n",
      "Requirement already satisfied: python-dateutil>=2.7 in /opt/conda/lib/python3.10/site-packages (from matplotlib>=3.4->cartopy) (2.8.2)\r\n",
      "Requirement already satisfied: certifi in /opt/conda/lib/python3.10/site-packages (from pyproj>=3.1.0->cartopy) (2023.7.22)\r\n",
      "Requirement already satisfied: six>=1.5 in /opt/conda/lib/python3.10/site-packages (from python-dateutil>=2.7->matplotlib>=3.4->cartopy) (1.16.0)\r\n",
      "Note: you may need to restart the kernel to use updated packages.\n"
     ]
    }
   ],
   "source": [
    "pip install cartopy"
   ]
  },
  {
   "cell_type": "code",
   "execution_count": 13,
   "id": "29aac51f",
   "metadata": {
    "execution": {
     "iopub.execute_input": "2023-10-17T09:05:18.863456Z",
     "iopub.status.busy": "2023-10-17T09:05:18.863176Z",
     "iopub.status.idle": "2023-10-17T09:05:27.190946Z",
     "shell.execute_reply": "2023-10-17T09:05:27.189646Z"
    },
    "id": "01LLuybaPEWp",
    "outputId": "a8401b85-a6fa-4e91-d936-3726a039436b",
    "papermill": {
     "duration": 8.340648,
     "end_time": "2023-10-17T09:05:27.192943",
     "exception": false,
     "start_time": "2023-10-17T09:05:18.852295",
     "status": "completed"
    },
    "tags": []
   },
   "outputs": [
    {
     "name": "stdout",
     "output_type": "stream",
     "text": [
      "Requirement already satisfied: transformers in /opt/conda/lib/python3.10/site-packages (4.33.0)\r\n",
      "Requirement already satisfied: filelock in /opt/conda/lib/python3.10/site-packages (from transformers) (3.12.2)\r\n",
      "Requirement already satisfied: huggingface-hub<1.0,>=0.15.1 in /opt/conda/lib/python3.10/site-packages (from transformers) (0.16.4)\r\n",
      "Requirement already satisfied: numpy>=1.17 in /opt/conda/lib/python3.10/site-packages (from transformers) (1.23.5)\r\n",
      "Requirement already satisfied: packaging>=20.0 in /opt/conda/lib/python3.10/site-packages (from transformers) (21.3)\r\n",
      "Requirement already satisfied: pyyaml>=5.1 in /opt/conda/lib/python3.10/site-packages (from transformers) (6.0)\r\n",
      "Requirement already satisfied: regex!=2019.12.17 in /opt/conda/lib/python3.10/site-packages (from transformers) (2023.6.3)\r\n",
      "Requirement already satisfied: requests in /opt/conda/lib/python3.10/site-packages (from transformers) (2.31.0)\r\n",
      "Requirement already satisfied: tokenizers!=0.11.3,<0.14,>=0.11.1 in /opt/conda/lib/python3.10/site-packages (from transformers) (0.13.3)\r\n",
      "Requirement already satisfied: safetensors>=0.3.1 in /opt/conda/lib/python3.10/site-packages (from transformers) (0.3.3)\r\n",
      "Requirement already satisfied: tqdm>=4.27 in /opt/conda/lib/python3.10/site-packages (from transformers) (4.66.1)\r\n",
      "Requirement already satisfied: fsspec in /opt/conda/lib/python3.10/site-packages (from huggingface-hub<1.0,>=0.15.1->transformers) (2023.9.0)\r\n",
      "Requirement already satisfied: typing-extensions>=3.7.4.3 in /opt/conda/lib/python3.10/site-packages (from huggingface-hub<1.0,>=0.15.1->transformers) (4.6.3)\r\n",
      "Requirement already satisfied: pyparsing!=3.0.5,>=2.0.2 in /opt/conda/lib/python3.10/site-packages (from packaging>=20.0->transformers) (3.0.9)\r\n",
      "Requirement already satisfied: charset-normalizer<4,>=2 in /opt/conda/lib/python3.10/site-packages (from requests->transformers) (3.1.0)\r\n",
      "Requirement already satisfied: idna<4,>=2.5 in /opt/conda/lib/python3.10/site-packages (from requests->transformers) (3.4)\r\n",
      "Requirement already satisfied: urllib3<3,>=1.21.1 in /opt/conda/lib/python3.10/site-packages (from requests->transformers) (1.26.15)\r\n",
      "Requirement already satisfied: certifi>=2017.4.17 in /opt/conda/lib/python3.10/site-packages (from requests->transformers) (2023.7.22)\r\n",
      "Note: you may need to restart the kernel to use updated packages.\n"
     ]
    }
   ],
   "source": [
    "pip install transformers"
   ]
  },
  {
   "cell_type": "code",
   "execution_count": 14,
   "id": "334b49d4",
   "metadata": {
    "execution": {
     "iopub.execute_input": "2023-10-17T09:05:27.215519Z",
     "iopub.status.busy": "2023-10-17T09:05:27.215194Z",
     "iopub.status.idle": "2023-10-17T09:05:36.071295Z",
     "shell.execute_reply": "2023-10-17T09:05:36.069646Z"
    },
    "id": "BhYbBwIwPQD8",
    "outputId": "dfe8818f-51bf-4fd0-fb12-19226cf62a47",
    "papermill": {
     "duration": 8.869669,
     "end_time": "2023-10-17T09:05:36.073294",
     "exception": false,
     "start_time": "2023-10-17T09:05:27.203625",
     "status": "completed"
    },
    "tags": []
   },
   "outputs": [
    {
     "name": "stdout",
     "output_type": "stream",
     "text": [
      "Requirement already satisfied: matplotlib-venn in /opt/conda/lib/python3.10/site-packages (0.11.9)\r\n",
      "Requirement already satisfied: matplotlib in /opt/conda/lib/python3.10/site-packages (from matplotlib-venn) (3.7.2)\r\n",
      "Requirement already satisfied: numpy in /opt/conda/lib/python3.10/site-packages (from matplotlib-venn) (1.23.5)\r\n",
      "Requirement already satisfied: scipy in /opt/conda/lib/python3.10/site-packages (from matplotlib-venn) (1.11.2)\r\n",
      "Requirement already satisfied: contourpy>=1.0.1 in /opt/conda/lib/python3.10/site-packages (from matplotlib->matplotlib-venn) (1.1.0)\r\n",
      "Requirement already satisfied: cycler>=0.10 in /opt/conda/lib/python3.10/site-packages (from matplotlib->matplotlib-venn) (0.11.0)\r\n",
      "Requirement already satisfied: fonttools>=4.22.0 in /opt/conda/lib/python3.10/site-packages (from matplotlib->matplotlib-venn) (4.40.0)\r\n",
      "Requirement already satisfied: kiwisolver>=1.0.1 in /opt/conda/lib/python3.10/site-packages (from matplotlib->matplotlib-venn) (1.4.4)\r\n",
      "Requirement already satisfied: packaging>=20.0 in /opt/conda/lib/python3.10/site-packages (from matplotlib->matplotlib-venn) (21.3)\r\n",
      "Requirement already satisfied: pillow>=6.2.0 in /opt/conda/lib/python3.10/site-packages (from matplotlib->matplotlib-venn) (9.5.0)\r\n",
      "Requirement already satisfied: pyparsing<3.1,>=2.3.1 in /opt/conda/lib/python3.10/site-packages (from matplotlib->matplotlib-venn) (3.0.9)\r\n",
      "Requirement already satisfied: python-dateutil>=2.7 in /opt/conda/lib/python3.10/site-packages (from matplotlib->matplotlib-venn) (2.8.2)\r\n",
      "Requirement already satisfied: six>=1.5 in /opt/conda/lib/python3.10/site-packages (from python-dateutil>=2.7->matplotlib->matplotlib-venn) (1.16.0)\r\n",
      "Note: you may need to restart the kernel to use updated packages.\n"
     ]
    }
   ],
   "source": [
    "pip install matplotlib-venn"
   ]
  },
  {
   "cell_type": "code",
   "execution_count": 15,
   "id": "d0541cb5",
   "metadata": {
    "execution": {
     "iopub.execute_input": "2023-10-17T09:05:36.095754Z",
     "iopub.status.busy": "2023-10-17T09:05:36.095424Z",
     "iopub.status.idle": "2023-10-17T09:05:47.471048Z",
     "shell.execute_reply": "2023-10-17T09:05:47.469405Z"
    },
    "id": "RkYPwlviQNUs",
    "outputId": "55fbf11e-fb45-474f-8159-70f1c15cd3cc",
    "papermill": {
     "duration": 11.389443,
     "end_time": "2023-10-17T09:05:47.473431",
     "exception": false,
     "start_time": "2023-10-17T09:05:36.083988",
     "status": "completed"
    },
    "tags": []
   },
   "outputs": [
    {
     "name": "stdout",
     "output_type": "stream",
     "text": [
      "Collecting bnlp_toolkit\r\n",
      "  Downloading bnlp_toolkit-4.0.0-py3-none-any.whl (22 kB)\r\n",
      "Requirement already satisfied: sentencepiece in /opt/conda/lib/python3.10/site-packages (from bnlp_toolkit) (0.1.99)\r\n",
      "Requirement already satisfied: gensim in /opt/conda/lib/python3.10/site-packages (from bnlp_toolkit) (4.3.2)\r\n",
      "Requirement already satisfied: nltk in /opt/conda/lib/python3.10/site-packages (from bnlp_toolkit) (3.2.4)\r\n",
      "Requirement already satisfied: numpy in /opt/conda/lib/python3.10/site-packages (from bnlp_toolkit) (1.23.5)\r\n",
      "Requirement already satisfied: scipy in /opt/conda/lib/python3.10/site-packages (from bnlp_toolkit) (1.11.2)\r\n",
      "Collecting sklearn-crfsuite (from bnlp_toolkit)\r\n",
      "  Downloading sklearn_crfsuite-0.3.6-py2.py3-none-any.whl (12 kB)\r\n",
      "Requirement already satisfied: tqdm in /opt/conda/lib/python3.10/site-packages (from bnlp_toolkit) (4.66.1)\r\n",
      "Collecting ftfy (from bnlp_toolkit)\r\n",
      "  Downloading ftfy-6.1.1-py3-none-any.whl (53 kB)\r\n",
      "\u001b[2K     \u001b[90m━━━━━━━━━━━━━━━━━━━━━━━━━━━━━━━━━━━━━━━━\u001b[0m \u001b[32m53.1/53.1 kB\u001b[0m \u001b[31m6.2 MB/s\u001b[0m eta \u001b[36m0:00:00\u001b[0m\r\n",
      "\u001b[?25hCollecting emoji==1.7.0 (from bnlp_toolkit)\r\n",
      "  Downloading emoji-1.7.0.tar.gz (175 kB)\r\n",
      "\u001b[2K     \u001b[90m━━━━━━━━━━━━━━━━━━━━━━━━━━━━━━━━━━━━━━\u001b[0m \u001b[32m175.4/175.4 kB\u001b[0m \u001b[31m17.5 MB/s\u001b[0m eta \u001b[36m0:00:00\u001b[0m\r\n",
      "\u001b[?25h  Preparing metadata (setup.py) ... \u001b[?25ldone\r\n",
      "\u001b[?25hRequirement already satisfied: requests in /opt/conda/lib/python3.10/site-packages (from bnlp_toolkit) (2.31.0)\r\n",
      "Requirement already satisfied: wcwidth>=0.2.5 in /opt/conda/lib/python3.10/site-packages (from ftfy->bnlp_toolkit) (0.2.6)\r\n",
      "Requirement already satisfied: smart-open>=1.8.1 in /opt/conda/lib/python3.10/site-packages (from gensim->bnlp_toolkit) (6.3.0)\r\n",
      "Requirement already satisfied: six in /opt/conda/lib/python3.10/site-packages (from nltk->bnlp_toolkit) (1.16.0)\r\n",
      "Requirement already satisfied: charset-normalizer<4,>=2 in /opt/conda/lib/python3.10/site-packages (from requests->bnlp_toolkit) (3.1.0)\r\n",
      "Requirement already satisfied: idna<4,>=2.5 in /opt/conda/lib/python3.10/site-packages (from requests->bnlp_toolkit) (3.4)\r\n",
      "Requirement already satisfied: urllib3<3,>=1.21.1 in /opt/conda/lib/python3.10/site-packages (from requests->bnlp_toolkit) (1.26.15)\r\n",
      "Requirement already satisfied: certifi>=2017.4.17 in /opt/conda/lib/python3.10/site-packages (from requests->bnlp_toolkit) (2023.7.22)\r\n",
      "Collecting python-crfsuite>=0.8.3 (from sklearn-crfsuite->bnlp_toolkit)\r\n",
      "  Downloading python_crfsuite-0.9.9-cp310-cp310-manylinux_2_17_x86_64.manylinux2014_x86_64.whl (993 kB)\r\n",
      "\u001b[2K     \u001b[90m━━━━━━━━━━━━━━━━━━━━━━━━━━━━━━━━━━━━━━\u001b[0m \u001b[32m993.5/993.5 kB\u001b[0m \u001b[31m58.0 MB/s\u001b[0m eta \u001b[36m0:00:00\u001b[0m\r\n",
      "\u001b[?25hRequirement already satisfied: tabulate in /opt/conda/lib/python3.10/site-packages (from sklearn-crfsuite->bnlp_toolkit) (0.9.0)\r\n",
      "Building wheels for collected packages: emoji\r\n",
      "  Building wheel for emoji (setup.py) ... \u001b[?25l-\b \bdone\r\n",
      "\u001b[?25h  Created wheel for emoji: filename=emoji-1.7.0-py3-none-any.whl size=171033 sha256=f5e3382214c97afe4b6eaf55ca0654826d4938ca2d0f7a8590e7a6258354a3cc\r\n",
      "  Stored in directory: /root/.cache/pip/wheels/31/8a/8c/315c9e5d7773f74b33d5ed33f075b49c6eaeb7cedbb86e2cf8\r\n",
      "Successfully built emoji\r\n",
      "Installing collected packages: python-crfsuite, emoji, sklearn-crfsuite, ftfy, bnlp_toolkit\r\n",
      "  Attempting uninstall: emoji\r\n",
      "    Found existing installation: emoji 2.8.0\r\n",
      "    Uninstalling emoji-2.8.0:\r\n",
      "      Successfully uninstalled emoji-2.8.0\r\n",
      "Successfully installed bnlp_toolkit-4.0.0 emoji-1.7.0 ftfy-6.1.1 python-crfsuite-0.9.9 sklearn-crfsuite-0.3.6\r\n",
      "Note: you may need to restart the kernel to use updated packages.\n"
     ]
    }
   ],
   "source": [
    "pip install -U bnlp_toolkit"
   ]
  },
  {
   "cell_type": "code",
   "execution_count": 16,
   "id": "16d419d8",
   "metadata": {
    "execution": {
     "iopub.execute_input": "2023-10-17T09:05:47.497629Z",
     "iopub.status.busy": "2023-10-17T09:05:47.497303Z",
     "iopub.status.idle": "2023-10-17T09:05:47.502028Z",
     "shell.execute_reply": "2023-10-17T09:05:47.501087Z"
    },
    "id": "UVXVIepuQkjt",
    "outputId": "a8c5b1db-b032-42db-e03a-4ea81c11c40d",
    "papermill": {
     "duration": 0.018822,
     "end_time": "2023-10-17T09:05:47.503699",
     "exception": false,
     "start_time": "2023-10-17T09:05:47.484877",
     "status": "completed"
    },
    "tags": []
   },
   "outputs": [],
   "source": [
    "# from bnlp import CleanText\n",
    "\n",
    "# clean_text = CleanText(\n",
    "#     fix_unicode=True,\n",
    "#     unicode_norm=True,\n",
    "#     unicode_norm_form=\"NFKC\", #\"NFKC\" stands for Normalization Form Compatibility Composition and is a commonly used normalization form.\n",
    "#     remove_url=True,\n",
    "#     remove_email=True,\n",
    "#     remove_emoji=True,\n",
    "#     remove_number=True,\n",
    "#     remove_digits=True,\n",
    "#     remove_punct=True,\n",
    "#     #replace_with_url=\"<URL>\",\n",
    "#     #replace_with_email=\"<EMAIL>\",\n",
    "#     #replace_with_number=\"<NUMBER>\",\n",
    "#     #replace_with_digit=\"<DIGIT>\",\n",
    "#     replace_with_punct=\"\"\n",
    "# )\n",
    "\n",
    "# # Apply the cleaning process to the 'Text' column\n",
    "# train['cleaned_text'] = train['Data'].apply(clean_text)\n",
    "# test['cleaned_text'] = test['Data'].apply(clean_text)\n",
    "\n",
    "\n",
    "# # Print the cleaned text in the 'cleaned_text' column\n",
    "# # print(test['cleaned_text'])\n"
   ]
  },
  {
   "cell_type": "code",
   "execution_count": 17,
   "id": "9cf8ef6f",
   "metadata": {
    "execution": {
     "iopub.execute_input": "2023-10-17T09:05:47.527482Z",
     "iopub.status.busy": "2023-10-17T09:05:47.527178Z",
     "iopub.status.idle": "2023-10-17T09:05:47.531364Z",
     "shell.execute_reply": "2023-10-17T09:05:47.530463Z"
    },
    "id": "mMPWhP_uShqk",
    "outputId": "c4089d8f-5b3a-47fc-ec2f-ac4c88e389e7",
    "papermill": {
     "duration": 0.018308,
     "end_time": "2023-10-17T09:05:47.533158",
     "exception": false,
     "start_time": "2023-10-17T09:05:47.514850",
     "status": "completed"
    },
    "tags": []
   },
   "outputs": [],
   "source": [
    "# rows_to_display = [0, 1, 2,3,4,5,6]  # Choose the row indices you want to display\n",
    "\n",
    "# for row_index in rows_to_display:\n",
    "#     print(f\"Row {row_index} - Original Train Text: {train.loc[row_index, 'Data']}\")\n",
    "#     print(f\"Row {row_index} - Cleaned Train Text : {train.loc[row_index, 'cleaned_text']}\\n\")\n",
    "#     print(f\"Row {row_index} - Original Test Text: {test.loc[row_index, 'Data']}\")\n",
    "#     print(f\"Row {row_index} - Cleaned Test Text : {test.loc[row_index, 'cleaned_text']}\\n\")"
   ]
  },
  {
   "cell_type": "code",
   "execution_count": 18,
   "id": "06000d47",
   "metadata": {
    "execution": {
     "iopub.execute_input": "2023-10-17T09:05:47.556787Z",
     "iopub.status.busy": "2023-10-17T09:05:47.556448Z",
     "iopub.status.idle": "2023-10-17T09:05:47.560894Z",
     "shell.execute_reply": "2023-10-17T09:05:47.559951Z"
    },
    "id": "BqC3s4BpSqOL",
    "outputId": "09947745-12f4-4c94-8a8d-7c03d892af45",
    "papermill": {
     "duration": 0.01863,
     "end_time": "2023-10-17T09:05:47.562582",
     "exception": false,
     "start_time": "2023-10-17T09:05:47.543952",
     "status": "completed"
    },
    "tags": []
   },
   "outputs": [],
   "source": [
    "# import re\n",
    "\n",
    "\n",
    "# # Define a function to check for special characters\n",
    "# def has_special_characters(cleaned_text):\n",
    "#     # Define a pattern to match special characters\n",
    "#     pattern = r'[\\&\\#\\$\\~\\%\\^\\*\\[\\]\\{\\}]'\n",
    "#     # Use re.search() to check if the pattern is found in the text\n",
    "#     if re.search(pattern, cleaned_text):\n",
    "#         return True\n",
    "#     else:\n",
    "#         return False\n",
    "\n",
    "# # Apply the function to the 'Text' column to create a boolean mask\n",
    "# df['has_special_chars'] = df['cleaned_text'].apply(has_special_characters)\n",
    "\n",
    "# # Print rows where special characters are present\n",
    "# rows_with_special_chars = df[df['has_special_chars']]\n",
    "# print(\"Rows with Special Characters:\")\n",
    "# print(rows_with_special_chars)\n",
    "\n",
    "\n",
    "# print(\"There is no special characters. So we dont need to work with special characters.\")"
   ]
  },
  {
   "cell_type": "code",
   "execution_count": 19,
   "id": "997999dc",
   "metadata": {
    "execution": {
     "iopub.execute_input": "2023-10-17T09:05:47.586314Z",
     "iopub.status.busy": "2023-10-17T09:05:47.585489Z",
     "iopub.status.idle": "2023-10-17T09:05:47.590487Z",
     "shell.execute_reply": "2023-10-17T09:05:47.589672Z"
    },
    "id": "5PSM8jMxS7pZ",
    "outputId": "ba97ef26-13a9-4c93-fd38-fe72fe5e1811",
    "papermill": {
     "duration": 0.018708,
     "end_time": "2023-10-17T09:05:47.592243",
     "exception": false,
     "start_time": "2023-10-17T09:05:47.573535",
     "status": "completed"
    },
    "tags": []
   },
   "outputs": [],
   "source": [
    "# import nltk\n",
    "# from nltk.corpus import stopwords\n",
    "\n",
    "# # Download Bengali stopwords from NLTK (if not already downloaded)\n",
    "# nltk.download('stopwords')\n",
    "\n",
    "# # Load Bengali stopwords\n",
    "# stop_words = set(stopwords.words('bengali'))\n",
    "\n",
    "# # Function to remove stopwords\n",
    "# def remove_stopwords(cleaned_text):\n",
    "#     words = cleaned_text.split()\n",
    "#     filtered_words = [word for word in words if word.lower() not in stop_words]\n",
    "#     return ' '.join(filtered_words)\n",
    "\n",
    "# # Apply the remove_stopwords function to the 'cleaned_text' column\n",
    "# df['cleaned_text_without_stopwords'] = df['cleaned_text'].apply(remove_stopwords)\n",
    "\n",
    "# # Print the original and cleaned text for a few specific rows\n",
    "# rows_to_display = [0, 1, 2,3,4,5]  # Choose the row indices you want to display\n",
    "\n",
    "# for row_index in rows_to_display:\n",
    "#     print(f\"Row {row_index} - Original Text: {df.loc[row_index, 'Data']}\")\n",
    "#     print(f\"Row {row_index} - Cleaned Text : {df.loc[row_index, 'cleaned_text_without_stopwords']}\\n\")\n"
   ]
  },
  {
   "cell_type": "code",
   "execution_count": 20,
   "id": "aee21e81",
   "metadata": {
    "execution": {
     "iopub.execute_input": "2023-10-17T09:05:47.615888Z",
     "iopub.status.busy": "2023-10-17T09:05:47.615092Z",
     "iopub.status.idle": "2023-10-17T09:05:47.619904Z",
     "shell.execute_reply": "2023-10-17T09:05:47.619114Z"
    },
    "id": "vQD26EjsTBGI",
    "outputId": "3114c424-6259-4f92-dba3-9ac6922d8f2c",
    "papermill": {
     "duration": 0.018474,
     "end_time": "2023-10-17T09:05:47.621569",
     "exception": false,
     "start_time": "2023-10-17T09:05:47.603095",
     "status": "completed"
    },
    "tags": []
   },
   "outputs": [],
   "source": [
    "# from bnlp import NLTKTokenizer\n",
    "\n",
    "# bnltk = NLTKTokenizer()\n",
    "\n",
    "# def tokenize_text(cleaned_text_without_stopwords):\n",
    "#     word_tokens = bnltk.word_tokenize(cleaned_text_without_stopwords)\n",
    "#     sentence_tokens = bnltk.sentence_tokenize(cleaned_text_without_stopwords)\n",
    "#     return word_tokens, sentence_tokens\n",
    "\n",
    "# # Apply tokenization to the 'Text' column\n",
    "# df[['word_tokens', 'sentence_tokens']] = df['cleaned_text_without_stopwords'].apply(tokenize_text).apply(pd.Series)\n",
    "\n",
    "# # Print the tokenized data for a few specific rows\n",
    "# rows_to_display = [0, 1, 2,3,4]  # Choose the row indices you want to display\n",
    "\n",
    "# for row_index in rows_to_display:\n",
    "#     print(f\"Row {row_index} - Original Text: {df.loc[row_index, 'Data']}\")\n",
    "#     print(f\"Row {row_index} - Word Tokens: {df.loc[row_index, 'word_tokens']}\")\n",
    "#     print(f\"Row {row_index} - Sentence Tokens: {df.loc[row_index, 'sentence_tokens']}\\n\")"
   ]
  },
  {
   "cell_type": "code",
   "execution_count": 21,
   "id": "9244f3ae",
   "metadata": {
    "execution": {
     "iopub.execute_input": "2023-10-17T09:05:47.645953Z",
     "iopub.status.busy": "2023-10-17T09:05:47.645107Z",
     "iopub.status.idle": "2023-10-17T09:05:56.122546Z",
     "shell.execute_reply": "2023-10-17T09:05:56.121393Z"
    },
    "id": "memnl15PT16O",
    "outputId": "d91e6496-4ba0-4b2b-b156-d8352fc8c45e",
    "papermill": {
     "duration": 8.491328,
     "end_time": "2023-10-17T09:05:56.124522",
     "exception": false,
     "start_time": "2023-10-17T09:05:47.633194",
     "status": "completed"
    },
    "tags": []
   },
   "outputs": [
    {
     "name": "stdout",
     "output_type": "stream",
     "text": [
      "Collecting bangla_stemmer\r\n",
      "  Downloading bangla_stemmer-1.0-py3-none-any.whl (9.1 kB)\r\n",
      "Installing collected packages: bangla_stemmer\r\n",
      "Successfully installed bangla_stemmer-1.0\r\n",
      "Note: you may need to restart the kernel to use updated packages.\n"
     ]
    }
   ],
   "source": [
    "pip install bangla_stemmer"
   ]
  },
  {
   "cell_type": "code",
   "execution_count": 22,
   "id": "591baca5",
   "metadata": {
    "execution": {
     "iopub.execute_input": "2023-10-17T09:05:56.149039Z",
     "iopub.status.busy": "2023-10-17T09:05:56.148692Z",
     "iopub.status.idle": "2023-10-17T09:05:56.158755Z",
     "shell.execute_reply": "2023-10-17T09:05:56.157830Z"
    },
    "id": "YKf18RFJUAzC",
    "papermill": {
     "duration": 0.025031,
     "end_time": "2023-10-17T09:05:56.160939",
     "exception": false,
     "start_time": "2023-10-17T09:05:56.135908",
     "status": "completed"
    },
    "tags": []
   },
   "outputs": [],
   "source": [
    "from bangla_stemmer.stemmer import stemmer"
   ]
  },
  {
   "cell_type": "code",
   "execution_count": 23,
   "id": "4b5a44c9",
   "metadata": {
    "execution": {
     "iopub.execute_input": "2023-10-17T09:05:56.184752Z",
     "iopub.status.busy": "2023-10-17T09:05:56.184456Z",
     "iopub.status.idle": "2023-10-17T09:05:56.189090Z",
     "shell.execute_reply": "2023-10-17T09:05:56.188209Z"
    },
    "id": "5110uxDWUMK2",
    "outputId": "40e36cf5-ac95-40fc-b12b-7fa3e652c278",
    "papermill": {
     "duration": 0.018189,
     "end_time": "2023-10-17T09:05:56.190675",
     "exception": false,
     "start_time": "2023-10-17T09:05:56.172486",
     "status": "completed"
    },
    "tags": []
   },
   "outputs": [],
   "source": [
    "# # Initialize the Bengali stemmer\n",
    "# stmr = stemmer.BanglaStemmer()\n",
    "\n",
    "# def apply_bangla_stemming(tokens):\n",
    "#     stemmed_tokens = [stmr.stem(token) for token in tokens]\n",
    "#     return stemmed_tokens\n",
    "\n",
    "# # Apply stemming to the 'word_tokens' column\n",
    "# df['stemmed_tokens'] = df['word_tokens'].apply(apply_bangla_stemming)\n",
    "\n",
    "# # Print the stemmed tokens for a few specific rows\n",
    "# rows_to_display = [0, 2, 4]  # Choose the row indices you want to display\n",
    "\n",
    "# for row_index in rows_to_display:\n",
    "#     print(f\"Row {row_index} - Original Text: {df.loc[row_index, 'Data']}\")\n",
    "#     print(f\"Row {row_index} - Word Tokens: {df.loc[row_index, 'word_tokens']}\")\n",
    "#     print(f\"Row {row_index} - Stemmed Tokens: {df.loc[row_index, 'stemmed_tokens']}\\n\")\n",
    "# df\n"
   ]
  },
  {
   "cell_type": "code",
   "execution_count": 24,
   "id": "c126c18a",
   "metadata": {
    "execution": {
     "iopub.execute_input": "2023-10-17T09:05:56.213939Z",
     "iopub.status.busy": "2023-10-17T09:05:56.213654Z",
     "iopub.status.idle": "2023-10-17T09:06:05.571418Z",
     "shell.execute_reply": "2023-10-17T09:06:05.570272Z"
    },
    "id": "TiYr4ZhQVXPW",
    "outputId": "c6c995bc-f631-4a9b-a88f-da1195eec281",
    "papermill": {
     "duration": 9.371755,
     "end_time": "2023-10-17T09:06:05.573457",
     "exception": false,
     "start_time": "2023-10-17T09:05:56.201702",
     "status": "completed"
    },
    "tags": []
   },
   "outputs": [
    {
     "name": "stdout",
     "output_type": "stream",
     "text": [
      "Collecting BnLemma\r\n",
      "  Downloading BnLemma-2.1-py3-none-any.whl (57 kB)\r\n",
      "\u001b[2K     \u001b[90m━━━━━━━━━━━━━━━━━━━━━━━━━━━━━━━━━━━━━━━━\u001b[0m \u001b[32m57.6/57.6 kB\u001b[0m \u001b[31m5.4 MB/s\u001b[0m eta \u001b[36m0:00:00\u001b[0m\r\n",
      "\u001b[?25hInstalling collected packages: BnLemma\r\n",
      "Successfully installed BnLemma-2.1\r\n",
      "Note: you may need to restart the kernel to use updated packages.\n"
     ]
    }
   ],
   "source": [
    "pip install BnLemma"
   ]
  },
  {
   "cell_type": "code",
   "execution_count": 25,
   "id": "7028868d",
   "metadata": {
    "execution": {
     "iopub.execute_input": "2023-10-17T09:06:05.598326Z",
     "iopub.status.busy": "2023-10-17T09:06:05.598016Z",
     "iopub.status.idle": "2023-10-17T09:06:05.601969Z",
     "shell.execute_reply": "2023-10-17T09:06:05.601053Z"
    },
    "id": "-FOFMJ5LTV2h",
    "outputId": "4db492f4-5b24-46c0-e6ef-b5a18daae65d",
    "papermill": {
     "duration": 0.018384,
     "end_time": "2023-10-17T09:06:05.603617",
     "exception": false,
     "start_time": "2023-10-17T09:06:05.585233",
     "status": "completed"
    },
    "tags": []
   },
   "outputs": [],
   "source": [
    "# import BnLemma as lm\n",
    "# bl = lm.Lemmatizer()\n",
    "\n",
    "# for i in range(0,df.shape[0]):\n",
    "#     words = str(df['stemmed_tokens'][i])\n",
    "#     df['stemmed_tokens'][i] = bl.lemma(words)\n",
    "# df"
   ]
  },
  {
   "cell_type": "code",
   "execution_count": 26,
   "id": "d04fbcab",
   "metadata": {
    "execution": {
     "iopub.execute_input": "2023-10-17T09:06:05.627318Z",
     "iopub.status.busy": "2023-10-17T09:06:05.627049Z",
     "iopub.status.idle": "2023-10-17T09:06:05.633336Z",
     "shell.execute_reply": "2023-10-17T09:06:05.632390Z"
    },
    "id": "uEXRVaS_JM0M",
    "papermill": {
     "duration": 0.020179,
     "end_time": "2023-10-17T09:06:05.635048",
     "exception": false,
     "start_time": "2023-10-17T09:06:05.614869",
     "status": "completed"
    },
    "tags": []
   },
   "outputs": [],
   "source": [
    "from sklearn.model_selection import train_test_split\n",
    "\n",
    "train_data = train['Data'].values.tolist()\n",
    "test_data=test['Data'].values.tolist()\n",
    "\n",
    "train_label= train['Level'].values.tolist()\n",
    "test_label=test['Level'].values.tolist()"
   ]
  },
  {
   "cell_type": "code",
   "execution_count": 27,
   "id": "edbb41e0",
   "metadata": {
    "execution": {
     "iopub.execute_input": "2023-10-17T09:06:05.658590Z",
     "iopub.status.busy": "2023-10-17T09:06:05.658330Z",
     "iopub.status.idle": "2023-10-17T09:06:05.662253Z",
     "shell.execute_reply": "2023-10-17T09:06:05.661394Z"
    },
    "id": "v6vQK2G_JSiB",
    "papermill": {
     "duration": 0.017673,
     "end_time": "2023-10-17T09:06:05.663951",
     "exception": false,
     "start_time": "2023-10-17T09:06:05.646278",
     "status": "completed"
    },
    "tags": []
   },
   "outputs": [],
   "source": [
    "X_train=train_data\n",
    "y_train=train_label\n",
    "\n",
    "X_test=test_data\n",
    "y_test=test_label"
   ]
  },
  {
   "cell_type": "code",
   "execution_count": 28,
   "id": "8ae2c617",
   "metadata": {
    "execution": {
     "iopub.execute_input": "2023-10-17T09:06:05.688237Z",
     "iopub.status.busy": "2023-10-17T09:06:05.687941Z",
     "iopub.status.idle": "2023-10-17T09:06:49.589035Z",
     "shell.execute_reply": "2023-10-17T09:06:49.588047Z"
    },
    "papermill": {
     "duration": 43.91626,
     "end_time": "2023-10-17T09:06:49.591382",
     "exception": false,
     "start_time": "2023-10-17T09:06:05.675122",
     "status": "completed"
    },
    "tags": []
   },
   "outputs": [
    {
     "data": {
      "application/vnd.jupyter.widget-view+json": {
       "model_id": "2f0fe6c567f042b08fe27aa872c4af04",
       "version_major": 2,
       "version_minor": 0
      },
      "text/plain": [
       "Downloading (…)lve/main/config.json:   0%|          | 0.00/491 [00:00<?, ?B/s]"
      ]
     },
     "metadata": {},
     "output_type": "display_data"
    },
    {
     "data": {
      "application/vnd.jupyter.widget-view+json": {
       "model_id": "aa1889954cfa4a2e8b14c9e3f1856034",
       "version_major": 2,
       "version_minor": 0
      },
      "text/plain": [
       "Downloading model.safetensors:   0%|          | 0.00/660M [00:00<?, ?B/s]"
      ]
     },
     "metadata": {},
     "output_type": "display_data"
    }
   ],
   "source": [
    "import ktrain\n",
    "from ktrain import text\n",
    "MODEL_NAME = 'sagorsarker/bangla-bert-base'\n",
    "t = text.Transformer(MODEL_NAME, maxlen=500)"
   ]
  },
  {
   "cell_type": "code",
   "execution_count": 29,
   "id": "65abda28",
   "metadata": {
    "execution": {
     "iopub.execute_input": "2023-10-17T09:06:49.616560Z",
     "iopub.status.busy": "2023-10-17T09:06:49.616285Z",
     "iopub.status.idle": "2023-10-17T09:06:54.016642Z",
     "shell.execute_reply": "2023-10-17T09:06:54.015733Z"
    },
    "papermill": {
     "duration": 4.414853,
     "end_time": "2023-10-17T09:06:54.018688",
     "exception": false,
     "start_time": "2023-10-17T09:06:49.603835",
     "status": "completed"
    },
    "tags": []
   },
   "outputs": [
    {
     "name": "stdout",
     "output_type": "stream",
     "text": [
      "preprocessing train...\n",
      "language: bn\n",
      "train sequence lengths:\n",
      "\tmean : 11\n",
      "\t95percentile : 27\n",
      "\t99percentile : 51\n"
     ]
    },
    {
     "data": {
      "application/vnd.jupyter.widget-view+json": {
       "model_id": "a2a4ed192c6c48cfb59cf192d3d0b4b8",
       "version_major": 2,
       "version_minor": 0
      },
      "text/plain": [
       "Downloading (…)solve/main/vocab.txt:   0%|          | 0.00/2.24M [00:00<?, ?B/s]"
      ]
     },
     "metadata": {},
     "output_type": "display_data"
    },
    {
     "data": {
      "text/html": [
       "\n",
       "<style>\n",
       "    /* Turns off some styling */\n",
       "    progress {\n",
       "        /* gets rid of default border in Firefox and Opera. */\n",
       "        border: none;\n",
       "        /* Needs to be in here for Safari polyfill so background images work as expected. */\n",
       "        background-size: auto;\n",
       "    }\n",
       "    progress:not([value]), progress:not([value])::-webkit-progress-bar {\n",
       "        background: repeating-linear-gradient(45deg, #7e7e7e, #7e7e7e 10px, #5c5c5c 10px, #5c5c5c 20px);\n",
       "    }\n",
       "    .progress-bar-interrupted, .progress-bar-interrupted::-webkit-progress-bar {\n",
       "        background: #F44336;\n",
       "    }\n",
       "</style>\n"
      ],
      "text/plain": [
       "<IPython.core.display.HTML object>"
      ]
     },
     "metadata": {},
     "output_type": "display_data"
    },
    {
     "data": {
      "text/html": [],
      "text/plain": [
       "<IPython.core.display.HTML object>"
      ]
     },
     "metadata": {},
     "output_type": "display_data"
    },
    {
     "name": "stdout",
     "output_type": "stream",
     "text": [
      "Is Multi-Label? False\n",
      "preprocessing test...\n",
      "language: bn\n",
      "test sequence lengths:\n",
      "\tmean : 11\n",
      "\t95percentile : 26\n",
      "\t99percentile : 44\n"
     ]
    },
    {
     "data": {
      "text/html": [
       "\n",
       "<style>\n",
       "    /* Turns off some styling */\n",
       "    progress {\n",
       "        /* gets rid of default border in Firefox and Opera. */\n",
       "        border: none;\n",
       "        /* Needs to be in here for Safari polyfill so background images work as expected. */\n",
       "        background-size: auto;\n",
       "    }\n",
       "    progress:not([value]), progress:not([value])::-webkit-progress-bar {\n",
       "        background: repeating-linear-gradient(45deg, #7e7e7e, #7e7e7e 10px, #5c5c5c 10px, #5c5c5c 20px);\n",
       "    }\n",
       "    .progress-bar-interrupted, .progress-bar-interrupted::-webkit-progress-bar {\n",
       "        background: #F44336;\n",
       "    }\n",
       "</style>\n"
      ],
      "text/plain": [
       "<IPython.core.display.HTML object>"
      ]
     },
     "metadata": {},
     "output_type": "display_data"
    },
    {
     "data": {
      "text/html": [],
      "text/plain": [
       "<IPython.core.display.HTML object>"
      ]
     },
     "metadata": {},
     "output_type": "display_data"
    }
   ],
   "source": [
    "trn = t.preprocess_train(X_train, y_train)\n",
    "val = t.preprocess_test(X_test, y_test)"
   ]
  },
  {
   "cell_type": "code",
   "execution_count": 30,
   "id": "1b581894",
   "metadata": {
    "execution": {
     "iopub.execute_input": "2023-10-17T09:06:54.044621Z",
     "iopub.status.busy": "2023-10-17T09:06:54.044077Z",
     "iopub.status.idle": "2023-10-17T09:06:56.268654Z",
     "shell.execute_reply": "2023-10-17T09:06:56.267686Z"
    },
    "id": "xmLbCfu5Jh8i",
    "papermill": {
     "duration": 2.239549,
     "end_time": "2023-10-17T09:06:56.270769",
     "exception": false,
     "start_time": "2023-10-17T09:06:54.031220",
     "status": "completed"
    },
    "tags": []
   },
   "outputs": [],
   "source": [
    "model = t.get_classifier()"
   ]
  },
  {
   "cell_type": "code",
   "execution_count": 31,
   "id": "02b04473",
   "metadata": {
    "execution": {
     "iopub.execute_input": "2023-10-17T09:06:56.296711Z",
     "iopub.status.busy": "2023-10-17T09:06:56.296448Z",
     "iopub.status.idle": "2023-10-17T09:06:56.300603Z",
     "shell.execute_reply": "2023-10-17T09:06:56.299484Z"
    },
    "id": "6x4o0_9FJzq9",
    "papermill": {
     "duration": 0.018762,
     "end_time": "2023-10-17T09:06:56.302301",
     "exception": false,
     "start_time": "2023-10-17T09:06:56.283539",
     "status": "completed"
    },
    "tags": []
   },
   "outputs": [],
   "source": [
    "# y_train = [encoding[x] for x in y_train]\n",
    "# y_test = [encoding[x] for x in y_test]\n"
   ]
  },
  {
   "cell_type": "code",
   "execution_count": 32,
   "id": "cddaf017",
   "metadata": {
    "execution": {
     "iopub.execute_input": "2023-10-17T09:06:56.330247Z",
     "iopub.status.busy": "2023-10-17T09:06:56.329996Z",
     "iopub.status.idle": "2023-10-17T09:06:58.391057Z",
     "shell.execute_reply": "2023-10-17T09:06:58.389856Z"
    },
    "id": "3UZQ5XgBKKbB",
    "papermill": {
     "duration": 2.077979,
     "end_time": "2023-10-17T09:06:58.394547",
     "exception": false,
     "start_time": "2023-10-17T09:06:56.316568",
     "status": "completed"
    },
    "tags": []
   },
   "outputs": [],
   "source": [
    "learner = ktrain.get_learner(model, train_data=trn, val_data=val, batch_size=6)\n"
   ]
  },
  {
   "cell_type": "code",
   "execution_count": 33,
   "id": "0fe7ea90",
   "metadata": {
    "execution": {
     "iopub.execute_input": "2023-10-17T09:06:58.462873Z",
     "iopub.status.busy": "2023-10-17T09:06:58.462538Z",
     "iopub.status.idle": "2023-10-17T09:22:22.644511Z",
     "shell.execute_reply": "2023-10-17T09:22:22.643483Z"
    },
    "id": "EOO2KHGSKnHs",
    "outputId": "6195a86e-218c-4d07-f829-6d8b5c61c753",
    "papermill": {
     "duration": 924.213979,
     "end_time": "2023-10-17T09:22:22.646526",
     "exception": false,
     "start_time": "2023-10-17T09:06:58.432547",
     "status": "completed"
    },
    "tags": []
   },
   "outputs": [
    {
     "name": "stdout",
     "output_type": "stream",
     "text": [
      "\n",
      "\n",
      "begin training using onecycle policy with max lr of 2e-05...\n",
      "Epoch 1/5\n",
      "342/342 [==============================] - 203s 538ms/step - loss: 1.4891 - accuracy: 0.3556 - val_loss: 1.4151 - val_accuracy: 0.4195\n",
      "Epoch 2/5\n",
      "342/342 [==============================] - 180s 528ms/step - loss: 1.1549 - accuracy: 0.5222 - val_loss: 1.3791 - val_accuracy: 0.4406\n",
      "Epoch 3/5\n",
      "342/342 [==============================] - 180s 527ms/step - loss: 0.8288 - accuracy: 0.6883 - val_loss: 1.4627 - val_accuracy: 0.4626\n",
      "Epoch 4/5\n",
      "342/342 [==============================] - 180s 527ms/step - loss: 0.4006 - accuracy: 0.8652 - val_loss: 1.7045 - val_accuracy: 0.4472\n",
      "Epoch 5/5\n",
      "342/342 [==============================] - 180s 527ms/step - loss: 0.1482 - accuracy: 0.9643 - val_loss: 1.7907 - val_accuracy: 0.4657\n"
     ]
    }
   ],
   "source": [
    "history = learner.fit_onecycle(2e-5, 5)"
   ]
  },
  {
   "cell_type": "code",
   "execution_count": 34,
   "id": "8a9be773",
   "metadata": {
    "execution": {
     "iopub.execute_input": "2023-10-17T09:22:22.820124Z",
     "iopub.status.busy": "2023-10-17T09:22:22.819820Z",
     "iopub.status.idle": "2023-10-17T09:22:51.510138Z",
     "shell.execute_reply": "2023-10-17T09:22:51.509027Z"
    },
    "papermill": {
     "duration": 28.779109,
     "end_time": "2023-10-17T09:22:51.512027",
     "exception": false,
     "start_time": "2023-10-17T09:22:22.732918",
     "status": "completed"
    },
    "tags": []
   },
   "outputs": [
    {
     "name": "stdout",
     "output_type": "stream",
     "text": [
      "71/71 [==============================] - 29s 366ms/step\n",
      "              precision    recall  f1-score   support\n",
      "\n",
      "       Anger       0.41      0.47      0.43       472\n",
      "        Fear       0.67      0.04      0.07        51\n",
      "         Joy       0.52      0.54      0.53       774\n",
      "        Love       0.37      0.31      0.34       388\n",
      "     Sadness       0.52      0.58      0.55       470\n",
      "    Surprise       0.30      0.22      0.25       117\n",
      "\n",
      "    accuracy                           0.47      2272\n",
      "   macro avg       0.47      0.36      0.36      2272\n",
      "weighted avg       0.47      0.47      0.46      2272\n",
      "\n"
     ]
    },
    {
     "data": {
      "text/plain": [
       "array([[220,   1,  98,  49,  89,  15],\n",
       "       [ 15,   2,  16,   7,  10,   1],\n",
       "       [124,   0, 417, 127,  87,  19],\n",
       "       [ 76,   0, 152, 121,  36,   3],\n",
       "       [ 81,   0,  82,  12, 272,  23],\n",
       "       [ 27,   0,  32,   7,  25,  26]])"
      ]
     },
     "execution_count": 34,
     "metadata": {},
     "output_type": "execute_result"
    }
   ],
   "source": [
    "learner.validate(class_names=t.get_classes()) \n"
   ]
  },
  {
   "cell_type": "code",
   "execution_count": 35,
   "id": "6827cac3",
   "metadata": {
    "execution": {
     "iopub.execute_input": "2023-10-17T09:22:51.691005Z",
     "iopub.status.busy": "2023-10-17T09:22:51.690661Z",
     "iopub.status.idle": "2023-10-17T09:22:51.697180Z",
     "shell.execute_reply": "2023-10-17T09:22:51.696197Z"
    },
    "papermill": {
     "duration": 0.097345,
     "end_time": "2023-10-17T09:22:51.698889",
     "exception": false,
     "start_time": "2023-10-17T09:22:51.601544",
     "status": "completed"
    },
    "tags": []
   },
   "outputs": [],
   "source": [
    "def PlotGraph(history):\n",
    "    acc = history.history['accuracy']\n",
    "    val_acc = history.history['val_accuracy']\n",
    "    loss = history.history['loss']\n",
    "    val_loss = history.history['val_loss']\n",
    "    x = range(1, len(acc) + 1)\n",
    "\n",
    "    plt.figure(figsize=(12, 5))\n",
    "    plt.subplot(1, 2, 1)\n",
    "    plt.plot(x, acc, 'g', label='Training acc')\n",
    "    plt.plot(x, val_acc, 'b', label='Validation acc')\n",
    "    plt.title('Training and validation accuracy')\n",
    "    plt.legend()\n",
    "    plt.subplot(1, 2, 2)\n",
    "    plt.plot(x, loss, 'g', label='Training loss')\n",
    "    plt.plot(x, val_loss, 'b', label='Validation loss')\n",
    "    plt.title('Training and validation loss')\n",
    "    plt.legend() "
   ]
  },
  {
   "cell_type": "code",
   "execution_count": 36,
   "id": "2354719c",
   "metadata": {
    "execution": {
     "iopub.execute_input": "2023-10-17T09:22:51.921551Z",
     "iopub.status.busy": "2023-10-17T09:22:51.921174Z",
     "iopub.status.idle": "2023-10-17T09:22:52.415410Z",
     "shell.execute_reply": "2023-10-17T09:22:52.414551Z"
    },
    "papermill": {
     "duration": 0.586148,
     "end_time": "2023-10-17T09:22:52.417190",
     "exception": false,
     "start_time": "2023-10-17T09:22:51.831042",
     "status": "completed"
    },
    "tags": []
   },
   "outputs": [
    {
     "data": {
      "image/png": "[encoded data removed]",
      "text/plain": [
       "<Figure size 1200x500 with 2 Axes>"
      ]
     },
     "metadata": {},
     "output_type": "display_data"
    }
   ],
   "source": [
    "PlotGraph(history)\n"
   ]
  }
 ],
 "metadata": {
  "kernelspec": {
   "display_name": "Python 3",
   "language": "python",
   "name": "python3"
  },
  "language_info": {
   "codemirror_mode": {
    "name": "ipython",
    "version": 3
   },
   "file_extension": ".py",
   "mimetype": "text/x-python",
   "name": "python",
   "nbconvert_exporter": "python",
   "pygments_lexer": "ipython3",
   "version": "3.10.12"
  },
  "papermill": {
   "default_parameters": {},
   "duration": 1138.275585,
   "end_time": "2023-10-17T09:22:55.431975",
   "environment_variables": {},
   "exception": null,
   "input_path": "__notebook__.ipynb",
   "output_path": "__notebook__.ipynb",
   "parameters": {},
   "start_time": "2023-10-17T09:03:57.156390",
   "version": "2.4.0"
  },
  "widgets": {
   "application/vnd.jupyter.widget-state+json": {
    "state": {
     "087d1a5afe8f45379d592fb96a53cab7": {
      "model_module": "@jupyter-widgets/controls",
      "model_module_version": "1.5.0",
      "model_name": "HTMLModel",
      "state": {
       "_dom_classes": [],
       "_model_module": "@jupyter-widgets/controls",
       "_model_module_version": "1.5.0",
       "_model_name": "HTMLModel",
       "_view_count": null,
       "_view_module": "@jupyter-widgets/controls",
       "_view_module_version": "1.5.0",
       "_view_name": "HTMLView",
       "description": "",
       "description_tooltip": null,
       "layout": "IPY_MODEL_d555876497184d7c95847dba231482da",
       "placeholder": "​",
       "style": "IPY_MODEL_f995dbba5e084c7981779cbb9f8a5f75",
       "value": "Downloading model.safetensors: 100%"
      }
     },
     "0b64e85e4389496592bb7e1e55ffd3f3": {
      "model_module": "@jupyter-widgets/base",
      "model_module_version": "1.2.0",
      "model_name": "LayoutModel",
      "state": {
       "_model_module": "@jupyter-widgets/base",
       "_model_module_version": "1.2.0",
       "_model_name": "LayoutModel",
       "_view_count": null,
       "_view_module": "@jupyter-widgets/base",
       "_view_module_version": "1.2.0",
       "_view_name": "LayoutView",
       "align_content": null,
       "align_items": null,
       "align_self": null,
       "border": null,
       "bottom": null,
       "display": null,
       "flex": null,
       "flex_flow": null,
       "grid_area": null,
       "grid_auto_columns": null,
       "grid_auto_flow": null,
       "grid_auto_rows": null,
       "grid_column": null,
       "grid_gap": null,
       "grid_row": null,
       "grid_template_areas": null,
       "grid_template_columns": null,
       "grid_template_rows": null,
       "height": null,
       "justify_content": null,
       "justify_items": null,
       "left": null,
       "margin": null,
       "max_height": null,
       "max_width": null,
       "min_height": null,
       "min_width": null,
       "object_fit": null,
       "object_position": null,
       "order": null,
       "overflow": null,
       "overflow_x": null,
       "overflow_y": null,
       "padding": null,
       "right": null,
       "top": null,
       "visibility": null,
       "width": null
      }
     },
     "16cc561966b54d8981ec816c0c2a3246": {
      "model_module": "@jupyter-widgets/controls",
      "model_module_version": "1.5.0",
      "model_name": "HTMLModel",
      "state": {
       "_dom_classes": [],
       "_model_module": "@jupyter-widgets/controls",
       "_model_module_version": "1.5.0",
       "_model_name": "HTMLModel",
       "_view_count": null,
       "_view_module": "@jupyter-widgets/controls",
       "_view_module_version": "1.5.0",
       "_view_name": "HTMLView",
       "description": "",
       "description_tooltip": null,
       "layout": "IPY_MODEL_79af39f1078d4cecbb8d40111e6fb52b",
       "placeholder": "​",
       "style": "IPY_MODEL_c6c00453ee2b4812806415d03880496e",
       "value": " 660M/660M [00:28&lt;00:00, 23.3MB/s]"
      }
     },
     "1e5acca595f54090bd58d12d256d530e": {
      "model_module": "@jupyter-widgets/controls",
      "model_module_version": "1.5.0",
      "model_name": "DescriptionStyleModel",
      "state": {
       "_model_module": "@jupyter-widgets/controls",
       "_model_module_version": "1.5.0",
       "_model_name": "DescriptionStyleModel",
       "_view_count": null,
       "_view_module": "@jupyter-widgets/base",
       "_view_module_version": "1.2.0",
       "_view_name": "StyleView",
       "description_width": ""
      }
     },
     "29090fd79a234738829ea4a9df27d2cd": {
      "model_module": "@jupyter-widgets/controls",
      "model_module_version": "1.5.0",
      "model_name": "ProgressStyleModel",
      "state": {
       "_model_module": "@jupyter-widgets/controls",
       "_model_module_version": "1.5.0",
       "_model_name": "ProgressStyleModel",
       "_view_count": null,
       "_view_module": "@jupyter-widgets/base",
       "_view_module_version": "1.2.0",
       "_view_name": "StyleView",
       "bar_color": null,
       "description_width": ""
      }
     },
     "2f0fe6c567f042b08fe27aa872c4af04": {
      "model_module": "@jupyter-widgets/controls",
      "model_module_version": "1.5.0",
      "model_name": "HBoxModel",
      "state": {
       "_dom_classes": [],
       "_model_module": "@jupyter-widgets/controls",
       "_model_module_version": "1.5.0",
       "_model_name": "HBoxModel",
       "_view_count": null,
       "_view_module": "@jupyter-widgets/controls",
       "_view_module_version": "1.5.0",
       "_view_name": "HBoxView",
       "box_style": "",
       "children": [
        "IPY_MODEL_e9bc5b1d2ba94f37b712281726dd70fc",
        "IPY_MODEL_e92b68c97c594999b1914f937023c328",
        "IPY_MODEL_c73980fceb614bceb6dbe85aa184ca54"
       ],
       "layout": "IPY_MODEL_5edb1554f96f46778792cc12e6fd9b4a"
      }
     },
     "33c4f86080f0409dbdc8b4353bcf1926": {
      "model_module": "@jupyter-widgets/base",
      "model_module_version": "1.2.0",
      "model_name": "LayoutModel",
      "state": {
       "_model_module": "@jupyter-widgets/base",
       "_model_module_version": "1.2.0",
       "_model_name": "LayoutModel",
       "_view_count": null,
       "_view_module": "@jupyter-widgets/base",
       "_view_module_version": "1.2.0",
       "_view_name": "LayoutView",
       "align_content": null,
       "align_items": null,
       "align_self": null,
       "border": null,
       "bottom": null,
       "display": null,
       "flex": null,
       "flex_flow": null,
       "grid_area": null,
       "grid_auto_columns": null,
       "grid_auto_flow": null,
       "grid_auto_rows": null,
       "grid_column": null,
       "grid_gap": null,
       "grid_row": null,
       "grid_template_areas": null,
       "grid_template_columns": null,
       "grid_template_rows": null,
       "height": null,
       "justify_content": null,
       "justify_items": null,
       "left": null,
       "margin": null,
       "max_height": null,
       "max_width": null,
       "min_height": null,
       "min_width": null,
       "object_fit": null,
       "object_position": null,
       "order": null,
       "overflow": null,
       "overflow_x": null,
       "overflow_y": null,
       "padding": null,
       "right": null,
       "top": null,
       "visibility": null,
       "width": null
      }
     },
     "37c595805ddc4f7d97e5d406bf8e274e": {
      "model_module": "@jupyter-widgets/base",
      "model_module_version": "1.2.0",
      "model_name": "LayoutModel",
      "state": {
       "_model_module": "@jupyter-widgets/base",
       "_model_module_version": "1.2.0",
       "_model_name": "LayoutModel",
       "_view_count": null,
       "_view_module": "@jupyter-widgets/base",
       "_view_module_version": "1.2.0",
       "_view_name": "LayoutView",
       "align_content": null,
       "align_items": null,
       "align_self": null,
       "border": null,
       "bottom": null,
       "display": null,
       "flex": null,
       "flex_flow": null,
       "grid_area": null,
       "grid_auto_columns": null,
       "grid_auto_flow": null,
       "grid_auto_rows": null,
       "grid_column": null,
       "grid_gap": null,
       "grid_row": null,
       "grid_template_areas": null,
       "grid_template_columns": null,
       "grid_template_rows": null,
       "height": null,
       "justify_content": null,
       "justify_items": null,
       "left": null,
       "margin": null,
       "max_height": null,
       "max_width": null,
       "min_height": null,
       "min_width": null,
       "object_fit": null,
       "object_position": null,
       "order": null,
       "overflow": null,
       "overflow_x": null,
       "overflow_y": null,
       "padding": null,
       "right": null,
       "top": null,
       "visibility": null,
       "width": null
      }
     },
     "39c510e46a6f4747a0ab32fbbd58dd31": {
      "model_module": "@jupyter-widgets/base",
      "model_module_version": "1.2.0",
      "model_name": "LayoutModel",
      "state": {
       "_model_module": "@jupyter-widgets/base",
       "_model_module_version": "1.2.0",
       "_model_name": "LayoutModel",
       "_view_count": null,
       "_view_module": "@jupyter-widgets/base",
       "_view_module_version": "1.2.0",
       "_view_name": "LayoutView",
       "align_content": null,
       "align_items": null,
       "align_self": null,
       "border": null,
       "bottom": null,
       "display": null,
       "flex": null,
       "flex_flow": null,
       "grid_area": null,
       "grid_auto_columns": null,
       "grid_auto_flow": null,
       "grid_auto_rows": null,
       "grid_column": null,
       "grid_gap": null,
       "grid_row": null,
       "grid_template_areas": null,
       "grid_template_columns": null,
       "grid_template_rows": null,
       "height": null,
       "justify_content": null,
       "justify_items": null,
       "left": null,
       "margin": null,
       "max_height": null,
       "max_width": null,
       "min_height": null,
       "min_width": null,
       "object_fit": null,
       "object_position": null,
       "order": null,
       "overflow": null,
       "overflow_x": null,
       "overflow_y": null,
       "padding": null,
       "right": null,
       "top": null,
       "visibility": null,
       "width": null
      }
     },
     "3c1b2a75e1cb49cdb9766043c0b9cffd": {
      "model_module": "@jupyter-widgets/base",
      "model_module_version": "1.2.0",
      "model_name": "LayoutModel",
      "state": {
       "_model_module": "@jupyter-widgets/base",
       "_model_module_version": "1.2.0",
       "_model_name": "LayoutModel",
       "_view_count": null,
       "_view_module": "@jupyter-widgets/base",
       "_view_module_version": "1.2.0",
       "_view_name": "LayoutView",
       "align_content": null,
       "align_items": null,
       "align_self": null,
       "border": null,
       "bottom": null,
       "display": null,
       "flex": null,
       "flex_flow": null,
       "grid_area": null,
       "grid_auto_columns": null,
       "grid_auto_flow": null,
       "grid_auto_rows": null,
       "grid_column": null,
       "grid_gap": null,
       "grid_row": null,
       "grid_template_areas": null,
       "grid_template_columns": null,
       "grid_template_rows": null,
       "height": null,
       "justify_content": null,
       "justify_items": null,
       "left": null,
       "margin": null,
       "max_height": null,
       "max_width": null,
       "min_height": null,
       "min_width": null,
       "object_fit": null,
       "object_position": null,
       "order": null,
       "overflow": null,
       "overflow_x": null,
       "overflow_y": null,
       "padding": null,
       "right": null,
       "top": null,
       "visibility": null,
       "width": null
      }
     },
     "58dece3ead5f4b4bae0a54bb7b05634f": {
      "model_module": "@jupyter-widgets/controls",
      "model_module_version": "1.5.0",
      "model_name": "DescriptionStyleModel",
      "state": {
       "_model_module": "@jupyter-widgets/controls",
       "_model_module_version": "1.5.0",
       "_model_name": "DescriptionStyleModel",
       "_view_count": null,
       "_view_module": "@jupyter-widgets/base",
       "_view_module_version": "1.2.0",
       "_view_name": "StyleView",
       "description_width": ""
      }
     },
     "5edb1554f96f46778792cc12e6fd9b4a": {
      "model_module": "@jupyter-widgets/base",
      "model_module_version": "1.2.0",
      "model_name": "LayoutModel",
      "state": {
       "_model_module": "@jupyter-widgets/base",
       "_model_module_version": "1.2.0",
       "_model_name": "LayoutModel",
       "_view_count": null,
       "_view_module": "@jupyter-widgets/base",
       "_view_module_version": "1.2.0",
       "_view_name": "LayoutView",
       "align_content": null,
       "align_items": null,
       "align_self": null,
       "border": null,
       "bottom": null,
       "display": null,
       "flex": null,
       "flex_flow": null,
       "grid_area": null,
       "grid_auto_columns": null,
       "grid_auto_flow": null,
       "grid_auto_rows": null,
       "grid_column": null,
       "grid_gap": null,
       "grid_row": null,
       "grid_template_areas": null,
       "grid_template_columns": null,
       "grid_template_rows": null,
       "height": null,
       "justify_content": null,
       "justify_items": null,
       "left": null,
       "margin": null,
       "max_height": null,
       "max_width": null,
       "min_height": null,
       "min_width": null,
       "object_fit": null,
       "object_position": null,
       "order": null,
       "overflow": null,
       "overflow_x": null,
       "overflow_y": null,
       "padding": null,
       "right": null,
       "top": null,
       "visibility": null,
       "width": null
      }
     },
     "679e3ebadc3940ecab4d2d7083cdb9b4": {
      "model_module": "@jupyter-widgets/controls",
      "model_module_version": "1.5.0",
      "model_name": "FloatProgressModel",
      "state": {
       "_dom_classes": [],
       "_model_module": "@jupyter-widgets/controls",
       "_model_module_version": "1.5.0",
       "_model_name": "FloatProgressModel",
       "_view_count": null,
       "_view_module": "@jupyter-widgets/controls",
       "_view_module_version": "1.5.0",
       "_view_name": "ProgressView",
       "bar_style": "success",
       "description": "",
       "description_tooltip": null,
       "layout": "IPY_MODEL_eaf0336b8f3c4e44874981781c353ec8",
       "max": 660393036.0,
       "min": 0.0,
       "orientation": "horizontal",
       "style": "IPY_MODEL_c911a9ccea1a4d97a78fc913965a2169",
       "value": 660393036.0
      }
     },
     "706f1205f87a42d98eb73b3f275de1ee": {
      "model_module": "@jupyter-widgets/controls",
      "model_module_version": "1.5.0",
      "model_name": "ProgressStyleModel",
      "state": {
       "_model_module": "@jupyter-widgets/controls",
       "_model_module_version": "1.5.0",
       "_model_name": "ProgressStyleModel",
       "_view_count": null,
       "_view_module": "@jupyter-widgets/base",
       "_view_module_version": "1.2.0",
       "_view_name": "StyleView",
       "bar_color": null,
       "description_width": ""
      }
     },
     "786e1897e2644309b3af9b5028d9ce31": {
      "model_module": "@jupyter-widgets/base",
      "model_module_version": "1.2.0",
      "model_name": "LayoutModel",
      "state": {
       "_model_module": "@jupyter-widgets/base",
       "_model_module_version": "1.2.0",
       "_model_name": "LayoutModel",
       "_view_count": null,
       "_view_module": "@jupyter-widgets/base",
       "_view_module_version": "1.2.0",
       "_view_name": "LayoutView",
       "align_content": null,
       "align_items": null,
       "align_self": null,
       "border": null,
       "bottom": null,
       "display": null,
       "flex": null,
       "flex_flow": null,
       "grid_area": null,
       "grid_auto_columns": null,
       "grid_auto_flow": null,
       "grid_auto_rows": null,
       "grid_column": null,
       "grid_gap": null,
       "grid_row": null,
       "grid_template_areas": null,
       "grid_template_columns": null,
       "grid_template_rows": null,
       "height": null,
       "justify_content": null,
       "justify_items": null,
       "left": null,
       "margin": null,
       "max_height": null,
       "max_width": null,
       "min_height": null,
       "min_width": null,
       "object_fit": null,
       "object_position": null,
       "order": null,
       "overflow": null,
       "overflow_x": null,
       "overflow_y": null,
       "padding": null,
       "right": null,
       "top": null,
       "visibility": null,
       "width": null
      }
     },
     "79af39f1078d4cecbb8d40111e6fb52b": {
      "model_module": "@jupyter-widgets/base",
      "model_module_version": "1.2.0",
      "model_name": "LayoutModel",
      "state": {
       "_model_module": "@jupyter-widgets/base",
       "_model_module_version": "1.2.0",
       "_model_name": "LayoutModel",
       "_view_count": null,
       "_view_module": "@jupyter-widgets/base",
       "_view_module_version": "1.2.0",
       "_view_name": "LayoutView",
       "align_content": null,
       "align_items": null,
       "align_self": null,
       "border": null,
       "bottom": null,
       "display": null,
       "flex": null,
       "flex_flow": null,
       "grid_area": null,
       "grid_auto_columns": null,
       "grid_auto_flow": null,
       "grid_auto_rows": null,
       "grid_column": null,
       "grid_gap": null,
       "grid_row": null,
       "grid_template_areas": null,
       "grid_template_columns": null,
       "grid_template_rows": null,
       "height": null,
       "justify_content": null,
       "justify_items": null,
       "left": null,
       "margin": null,
       "max_height": null,
       "max_width": null,
       "min_height": null,
       "min_width": null,
       "object_fit": null,
       "object_position": null,
       "order": null,
       "overflow": null,
       "overflow_x": null,
       "overflow_y": null,
       "padding": null,
       "right": null,
       "top": null,
       "visibility": null,
       "width": null
      }
     },
     "8ccbf281526a41babb6f6af6ed56ecf6": {
      "model_module": "@jupyter-widgets/controls",
      "model_module_version": "1.5.0",
      "model_name": "DescriptionStyleModel",
      "state": {
       "_model_module": "@jupyter-widgets/controls",
       "_model_module_version": "1.5.0",
       "_model_name": "DescriptionStyleModel",
       "_view_count": null,
       "_view_module": "@jupyter-widgets/base",
       "_view_module_version": "1.2.0",
       "_view_name": "StyleView",
       "description_width": ""
      }
     },
     "a2a4ed192c6c48cfb59cf192d3d0b4b8": {
      "model_module": "@jupyter-widgets/controls",
      "model_module_version": "1.5.0",
      "model_name": "HBoxModel",
      "state": {
       "_dom_classes": [],
       "_model_module": "@jupyter-widgets/controls",
       "_model_module_version": "1.5.0",
       "_model_name": "HBoxModel",
       "_view_count": null,
       "_view_module": "@jupyter-widgets/controls",
       "_view_module_version": "1.5.0",
       "_view_name": "HBoxView",
       "box_style": "",
       "children": [
        "IPY_MODEL_dedfed6358384d86b3aa2ce77f868833",
        "IPY_MODEL_a84b0eba02024bbf9334d6aef2826f32",
        "IPY_MODEL_c95f5c0c71f24140a372d950633e1ffd"
       ],
       "layout": "IPY_MODEL_786e1897e2644309b3af9b5028d9ce31"
      }
     },
     "a84b0eba02024bbf9334d6aef2826f32": {
      "model_module": "@jupyter-widgets/controls",
      "model_module_version": "1.5.0",
      "model_name": "FloatProgressModel",
      "state": {
       "_dom_classes": [],
       "_model_module": "@jupyter-widgets/controls",
       "_model_module_version": "1.5.0",
       "_model_name": "FloatProgressModel",
       "_view_count": null,
       "_view_module": "@jupyter-widgets/controls",
       "_view_module_version": "1.5.0",
       "_view_name": "ProgressView",
       "bar_style": "success",
       "description": "",
       "description_tooltip": null,
       "layout": "IPY_MODEL_0b64e85e4389496592bb7e1e55ffd3f3",
       "max": 2237676.0,
       "min": 0.0,
       "orientation": "horizontal",
       "style": "IPY_MODEL_706f1205f87a42d98eb73b3f275de1ee",
       "value": 2237676.0
      }
     },
     "aa1889954cfa4a2e8b14c9e3f1856034": {
      "model_module": "@jupyter-widgets/controls",
      "model_module_version": "1.5.0",
      "model_name": "HBoxModel",
      "state": {
       "_dom_classes": [],
       "_model_module": "@jupyter-widgets/controls",
       "_model_module_version": "1.5.0",
       "_model_name": "HBoxModel",
       "_view_count": null,
       "_view_module": "@jupyter-widgets/controls",
       "_view_module_version": "1.5.0",
       "_view_name": "HBoxView",
       "box_style": "",
       "children": [
        "IPY_MODEL_087d1a5afe8f45379d592fb96a53cab7",
        "IPY_MODEL_679e3ebadc3940ecab4d2d7083cdb9b4",
        "IPY_MODEL_16cc561966b54d8981ec816c0c2a3246"
       ],
       "layout": "IPY_MODEL_39c510e46a6f4747a0ab32fbbd58dd31"
      }
     },
     "adb18156b4d343438077851e400b83c8": {
      "model_module": "@jupyter-widgets/base",
      "model_module_version": "1.2.0",
      "model_name": "LayoutModel",
      "state": {
       "_model_module": "@jupyter-widgets/base",
       "_model_module_version": "1.2.0",
       "_model_name": "LayoutModel",
       "_view_count": null,
       "_view_module": "@jupyter-widgets/base",
       "_view_module_version": "1.2.0",
       "_view_name": "LayoutView",
       "align_content": null,
       "align_items": null,
       "align_self": null,
       "border": null,
       "bottom": null,
       "display": null,
       "flex": null,
       "flex_flow": null,
       "grid_area": null,
       "grid_auto_columns": null,
       "grid_auto_flow": null,
       "grid_auto_rows": null,
       "grid_column": null,
       "grid_gap": null,
       "grid_row": null,
       "grid_template_areas": null,
       "grid_template_columns": null,
       "grid_template_rows": null,
       "height": null,
       "justify_content": null,
       "justify_items": null,
       "left": null,
       "margin": null,
       "max_height": null,
       "max_width": null,
       "min_height": null,
       "min_width": null,
       "object_fit": null,
       "object_position": null,
       "order": null,
       "overflow": null,
       "overflow_x": null,
       "overflow_y": null,
       "padding": null,
       "right": null,
       "top": null,
       "visibility": null,
       "width": null
      }
     },
     "c6c00453ee2b4812806415d03880496e": {
      "model_module": "@jupyter-widgets/controls",
      "model_module_version": "1.5.0",
      "model_name": "DescriptionStyleModel",
      "state": {
       "_model_module": "@jupyter-widgets/controls",
       "_model_module_version": "1.5.0",
       "_model_name": "DescriptionStyleModel",
       "_view_count": null,
       "_view_module": "@jupyter-widgets/base",
       "_view_module_version": "1.2.0",
       "_view_name": "StyleView",
       "description_width": ""
      }
     },
     "c73980fceb614bceb6dbe85aa184ca54": {
      "model_module": "@jupyter-widgets/controls",
      "model_module_version": "1.5.0",
      "model_name": "HTMLModel",
      "state": {
       "_dom_classes": [],
       "_model_module": "@jupyter-widgets/controls",
       "_model_module_version": "1.5.0",
       "_model_name": "HTMLModel",
       "_view_count": null,
       "_view_module": "@jupyter-widgets/controls",
       "_view_module_version": "1.5.0",
       "_view_name": "HTMLView",
       "description": "",
       "description_tooltip": null,
       "layout": "IPY_MODEL_37c595805ddc4f7d97e5d406bf8e274e",
       "placeholder": "​",
       "style": "IPY_MODEL_8ccbf281526a41babb6f6af6ed56ecf6",
       "value": " 491/491 [00:00&lt;00:00, 39.8kB/s]"
      }
     },
     "c911a9ccea1a4d97a78fc913965a2169": {
      "model_module": "@jupyter-widgets/controls",
      "model_module_version": "1.5.0",
      "model_name": "ProgressStyleModel",
      "state": {
       "_model_module": "@jupyter-widgets/controls",
       "_model_module_version": "1.5.0",
       "_model_name": "ProgressStyleModel",
       "_view_count": null,
       "_view_module": "@jupyter-widgets/base",
       "_view_module_version": "1.2.0",
       "_view_name": "StyleView",
       "bar_color": null,
       "description_width": ""
      }
     },
     "c95f5c0c71f24140a372d950633e1ffd": {
      "model_module": "@jupyter-widgets/controls",
      "model_module_version": "1.5.0",
      "model_name": "HTMLModel",
      "state": {
       "_dom_classes": [],
       "_model_module": "@jupyter-widgets/controls",
       "_model_module_version": "1.5.0",
       "_model_name": "HTMLModel",
       "_view_count": null,
       "_view_module": "@jupyter-widgets/controls",
       "_view_module_version": "1.5.0",
       "_view_name": "HTMLView",
       "description": "",
       "description_tooltip": null,
       "layout": "IPY_MODEL_3c1b2a75e1cb49cdb9766043c0b9cffd",
       "placeholder": "​",
       "style": "IPY_MODEL_58dece3ead5f4b4bae0a54bb7b05634f",
       "value": " 2.24M/2.24M [00:00&lt;00:00, 3.80MB/s]"
      }
     },
     "d555876497184d7c95847dba231482da": {
      "model_module": "@jupyter-widgets/base",
      "model_module_version": "1.2.0",
      "model_name": "LayoutModel",
      "state": {
       "_model_module": "@jupyter-widgets/base",
       "_model_module_version": "1.2.0",
       "_model_name": "LayoutModel",
       "_view_count": null,
       "_view_module": "@jupyter-widgets/base",
       "_view_module_version": "1.2.0",
       "_view_name": "LayoutView",
       "align_content": null,
       "align_items": null,
       "align_self": null,
       "border": null,
       "bottom": null,
       "display": null,
       "flex": null,
       "flex_flow": null,
       "grid_area": null,
       "grid_auto_columns": null,
       "grid_auto_flow": null,
       "grid_auto_rows": null,
       "grid_column": null,
       "grid_gap": null,
       "grid_row": null,
       "grid_template_areas": null,
       "grid_template_columns": null,
       "grid_template_rows": null,
       "height": null,
       "justify_content": null,
       "justify_items": null,
       "left": null,
       "margin": null,
       "max_height": null,
       "max_width": null,
       "min_height": null,
       "min_width": null,
       "object_fit": null,
       "object_position": null,
       "order": null,
       "overflow": null,
       "overflow_x": null,
       "overflow_y": null,
       "padding": null,
       "right": null,
       "top": null,
       "visibility": null,
       "width": null
      }
     },
     "ddc163adfbd14d578dc88e22e7c5b072": {
      "model_module": "@jupyter-widgets/base",
      "model_module_version": "1.2.0",
      "model_name": "LayoutModel",
      "state": {
       "_model_module": "@jupyter-widgets/base",
       "_model_module_version": "1.2.0",
       "_model_name": "LayoutModel",
       "_view_count": null,
       "_view_module": "@jupyter-widgets/base",
       "_view_module_version": "1.2.0",
       "_view_name": "LayoutView",
       "align_content": null,
       "align_items": null,
       "align_self": null,
       "border": null,
       "bottom": null,
       "display": null,
       "flex": null,
       "flex_flow": null,
       "grid_area": null,
       "grid_auto_columns": null,
       "grid_auto_flow": null,
       "grid_auto_rows": null,
       "grid_column": null,
       "grid_gap": null,
       "grid_row": null,
       "grid_template_areas": null,
       "grid_template_columns": null,
       "grid_template_rows": null,
       "height": null,
       "justify_content": null,
       "justify_items": null,
       "left": null,
       "margin": null,
       "max_height": null,
       "max_width": null,
       "min_height": null,
       "min_width": null,
       "object_fit": null,
       "object_position": null,
       "order": null,
       "overflow": null,
       "overflow_x": null,
       "overflow_y": null,
       "padding": null,
       "right": null,
       "top": null,
       "visibility": null,
       "width": null
      }
     },
     "dedfed6358384d86b3aa2ce77f868833": {
      "model_module": "@jupyter-widgets/controls",
      "model_module_version": "1.5.0",
      "model_name": "HTMLModel",
      "state": {
       "_dom_classes": [],
       "_model_module": "@jupyter-widgets/controls",
       "_model_module_version": "1.5.0",
       "_model_name": "HTMLModel",
       "_view_count": null,
       "_view_module": "@jupyter-widgets/controls",
       "_view_module_version": "1.5.0",
       "_view_name": "HTMLView",
       "description": "",
       "description_tooltip": null,
       "layout": "IPY_MODEL_33c4f86080f0409dbdc8b4353bcf1926",
       "placeholder": "​",
       "style": "IPY_MODEL_1e5acca595f54090bd58d12d256d530e",
       "value": "Downloading (…)solve/main/vocab.txt: 100%"
      }
     },
     "e92b68c97c594999b1914f937023c328": {
      "model_module": "@jupyter-widgets/controls",
      "model_module_version": "1.5.0",
      "model_name": "FloatProgressModel",
      "state": {
       "_dom_classes": [],
       "_model_module": "@jupyter-widgets/controls",
       "_model_module_version": "1.5.0",
       "_model_name": "FloatProgressModel",
       "_view_count": null,
       "_view_module": "@jupyter-widgets/controls",
       "_view_module_version": "1.5.0",
       "_view_name": "ProgressView",
       "bar_style": "success",
       "description": "",
       "description_tooltip": null,
       "layout": "IPY_MODEL_adb18156b4d343438077851e400b83c8",
       "max": 491.0,
       "min": 0.0,
       "orientation": "horizontal",
       "style": "IPY_MODEL_29090fd79a234738829ea4a9df27d2cd",
       "value": 491.0
      }
     },
     "e9bc5b1d2ba94f37b712281726dd70fc": {
      "model_module": "@jupyter-widgets/controls",
      "model_module_version": "1.5.0",
      "model_name": "HTMLModel",
      "state": {
       "_dom_classes": [],
       "_model_module": "@jupyter-widgets/controls",
       "_model_module_version": "1.5.0",
       "_model_name": "HTMLModel",
       "_view_count": null,
       "_view_module": "@jupyter-widgets/controls",
       "_view_module_version": "1.5.0",
       "_view_name": "HTMLView",
       "description": "",
       "description_tooltip": null,
       "layout": "IPY_MODEL_ddc163adfbd14d578dc88e22e7c5b072",
       "placeholder": "​",
       "style": "IPY_MODEL_fd6e60d552dc4ce199cf26af50e27ef5",
       "value": "Downloading (…)lve/main/config.json: 100%"
      }
     },
     "eaf0336b8f3c4e44874981781c353ec8": {
      "model_module": "@jupyter-widgets/base",
      "model_module_version": "1.2.0",
      "model_name": "LayoutModel",
      "state": {
       "_model_module": "@jupyter-widgets/base",
       "_model_module_version": "1.2.0",
       "_model_name": "LayoutModel",
       "_view_count": null,
       "_view_module": "@jupyter-widgets/base",
       "_view_module_version": "1.2.0",
       "_view_name": "LayoutView",
       "align_content": null,
       "align_items": null,
       "align_self": null,
       "border": null,
       "bottom": null,
       "display": null,
       "flex": null,
       "flex_flow": null,
       "grid_area": null,
       "grid_auto_columns": null,
       "grid_auto_flow": null,
       "grid_auto_rows": null,
       "grid_column": null,
       "grid_gap": null,
       "grid_row": null,
       "grid_template_areas": null,
       "grid_template_columns": null,
       "grid_template_rows": null,
       "height": null,
       "justify_content": null,
       "justify_items": null,
       "left": null,
       "margin": null,
       "max_height": null,
       "max_width": null,
       "min_height": null,
       "min_width": null,
       "object_fit": null,
       "object_position": null,
       "order": null,
       "overflow": null,
       "overflow_x": null,
       "overflow_y": null,
       "padding": null,
       "right": null,
       "top": null,
       "visibility": null,
       "width": null
      }
     },
     "f995dbba5e084c7981779cbb9f8a5f75": {
      "model_module": "@jupyter-widgets/controls",
      "model_module_version": "1.5.0",
      "model_name": "DescriptionStyleModel",
      "state": {
       "_model_module": "@jupyter-widgets/controls",
       "_model_module_version": "1.5.0",
       "_model_name": "DescriptionStyleModel",
       "_view_count": null,
       "_view_module": "@jupyter-widgets/base",
       "_view_module_version": "1.2.0",
       "_view_name": "StyleView",
       "description_width": ""
      }
     },
     "fd6e60d552dc4ce199cf26af50e27ef5": {
      "model_module": "@jupyter-widgets/controls",
      "model_module_version": "1.5.0",
      "model_name": "DescriptionStyleModel",
      "state": {
       "_model_module": "@jupyter-widgets/controls",
       "_model_module_version": "1.5.0",
       "_model_name": "DescriptionStyleModel",
       "_view_count": null,
       "_view_module": "@jupyter-widgets/base",
       "_view_module_version": "1.2.0",
       "_view_name": "StyleView",
       "description_width": ""
      }
     }
    },
    "version_major": 2,
    "version_minor": 0
   }
  }
 },
 "nbformat": 4,
 "nbformat_minor": 5
}
